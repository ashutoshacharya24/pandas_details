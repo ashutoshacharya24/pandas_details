{
 "cells": [
  {
   "cell_type": "code",
   "execution_count": 1,
   "id": "70cd832c-3c54-4b6b-b0d3-954c084c6099",
   "metadata": {},
   "outputs": [],
   "source": [
    "import pandas as pd\n",
    "import numpy as np"
   ]
  },
  {
   "cell_type": "markdown",
   "id": "8a8bbec0-ace5-4953-943d-6f1d6a8bdae2",
   "metadata": {},
   "source": [
    "# DataFrame"
   ]
  },
  {
   "cell_type": "code",
   "execution_count": 116,
   "id": "fce18959-bf57-4c03-822f-8dfd9d11cb01",
   "metadata": {},
   "outputs": [
    {
     "data": {
      "text/html": [
       "<div>\n",
       "<style scoped>\n",
       "    .dataframe tbody tr th:only-of-type {\n",
       "        vertical-align: middle;\n",
       "    }\n",
       "\n",
       "    .dataframe tbody tr th {\n",
       "        vertical-align: top;\n",
       "    }\n",
       "\n",
       "    .dataframe thead th {\n",
       "        text-align: right;\n",
       "    }\n",
       "</style>\n",
       "<table border=\"1\" class=\"dataframe\">\n",
       "  <thead>\n",
       "    <tr style=\"text-align: right;\">\n",
       "      <th></th>\n",
       "      <th>student</th>\n",
       "      <th>rank</th>\n",
       "      <th>marks</th>\n",
       "    </tr>\n",
       "  </thead>\n",
       "  <tbody>\n",
       "    <tr>\n",
       "      <th>0</th>\n",
       "      <td>ashutosh</td>\n",
       "      <td>1</td>\n",
       "      <td>34</td>\n",
       "    </tr>\n",
       "    <tr>\n",
       "      <th>1</th>\n",
       "      <td>mamuni</td>\n",
       "      <td>2</td>\n",
       "      <td>78</td>\n",
       "    </tr>\n",
       "    <tr>\n",
       "      <th>2</th>\n",
       "      <td>nalini</td>\n",
       "      <td>3</td>\n",
       "      <td>90</td>\n",
       "    </tr>\n",
       "  </tbody>\n",
       "</table>\n",
       "</div>"
      ],
      "text/plain": [
       "    student  rank  marks\n",
       "0  ashutosh     1     34\n",
       "1    mamuni     2     78\n",
       "2    nalini     3     90"
      ]
     },
     "execution_count": 116,
     "metadata": {},
     "output_type": "execute_result"
    }
   ],
   "source": [
    "data = {\n",
    "    'student' : ['ashutosh','mamuni','nalini'],\n",
    "    'rank': [1,2,3],\n",
    "    'marks': [34,78,90]\n",
    "}\n",
    "df = pd.DataFrame(data)\n",
    "df"
   ]
  },
  {
   "cell_type": "code",
   "execution_count": 120,
   "id": "d70d2978-2b6a-4265-b6da-08839bee89d5",
   "metadata": {},
   "outputs": [
    {
     "data": {
      "text/html": [
       "<div>\n",
       "<style scoped>\n",
       "    .dataframe tbody tr th:only-of-type {\n",
       "        vertical-align: middle;\n",
       "    }\n",
       "\n",
       "    .dataframe tbody tr th {\n",
       "        vertical-align: top;\n",
       "    }\n",
       "\n",
       "    .dataframe thead th {\n",
       "        text-align: right;\n",
       "    }\n",
       "</style>\n",
       "<table border=\"1\" class=\"dataframe\">\n",
       "  <thead>\n",
       "    <tr style=\"text-align: right;\">\n",
       "      <th></th>\n",
       "      <th>student</th>\n",
       "      <th>rank</th>\n",
       "      <th>marks</th>\n",
       "    </tr>\n",
       "  </thead>\n",
       "  <tbody>\n",
       "    <tr>\n",
       "      <th>rowA</th>\n",
       "      <td>ashutosh</td>\n",
       "      <td>1</td>\n",
       "      <td>34</td>\n",
       "    </tr>\n",
       "    <tr>\n",
       "      <th>rowB</th>\n",
       "      <td>mamuni</td>\n",
       "      <td>2</td>\n",
       "      <td>78</td>\n",
       "    </tr>\n",
       "    <tr>\n",
       "      <th>rowC</th>\n",
       "      <td>nalini</td>\n",
       "      <td>3</td>\n",
       "      <td>90</td>\n",
       "    </tr>\n",
       "  </tbody>\n",
       "</table>\n",
       "</div>"
      ],
      "text/plain": [
       "       student  rank  marks\n",
       "rowA  ashutosh     1     34\n",
       "rowB    mamuni     2     78\n",
       "rowC    nalini     3     90"
      ]
     },
     "execution_count": 120,
     "metadata": {},
     "output_type": "execute_result"
    }
   ],
   "source": [
    "df = pd.DataFrame(data, index=['rowA','rowB','rowC'])\n",
    "df"
   ]
  },
  {
   "cell_type": "markdown",
   "id": "0a9ed011-a74b-4489-96b6-1e3ee0f23bfc",
   "metadata": {},
   "source": [
    "# Access group of ROWs or COLUMNs in a pandas dataframe"
   ]
  },
  {
   "cell_type": "markdown",
   "id": "46b88c9b-0167-4bc7-a731-f1f5a5f50ecf",
   "metadata": {},
   "source": [
    "### Access the value in the student column corresponding to the RowA lebel"
   ]
  },
  {
   "cell_type": "markdown",
   "id": "f4b863f4-30ed-4aa6-8899-e0ef9ffdfe8e",
   "metadata": {},
   "source": [
    "## loc"
   ]
  },
  {
   "cell_type": "code",
   "execution_count": 37,
   "id": "12e1f864-e00a-4c45-8c66-9348f9a440d2",
   "metadata": {},
   "outputs": [
    {
     "data": {
      "text/html": [
       "<div>\n",
       "<style scoped>\n",
       "    .dataframe tbody tr th:only-of-type {\n",
       "        vertical-align: middle;\n",
       "    }\n",
       "\n",
       "    .dataframe tbody tr th {\n",
       "        vertical-align: top;\n",
       "    }\n",
       "\n",
       "    .dataframe thead th {\n",
       "        text-align: right;\n",
       "    }\n",
       "</style>\n",
       "<table border=\"1\" class=\"dataframe\">\n",
       "  <thead>\n",
       "    <tr style=\"text-align: right;\">\n",
       "      <th></th>\n",
       "      <th>student</th>\n",
       "      <th>rank</th>\n",
       "      <th>marks</th>\n",
       "    </tr>\n",
       "  </thead>\n",
       "  <tbody>\n",
       "    <tr>\n",
       "      <th>rowA</th>\n",
       "      <td>ashutosh</td>\n",
       "      <td>1</td>\n",
       "      <td>34</td>\n",
       "    </tr>\n",
       "  </tbody>\n",
       "</table>\n",
       "</div>"
      ],
      "text/plain": [
       "       student  rank  marks\n",
       "rowA  ashutosh     1     34"
      ]
     },
     "execution_count": 37,
     "metadata": {},
     "output_type": "execute_result"
    }
   ],
   "source": [
    "df = df.loc[['rowA']]\n",
    "df"
   ]
  },
  {
   "cell_type": "code",
   "execution_count": 38,
   "id": "82581144-49ff-4fb1-a335-257c978599d2",
   "metadata": {},
   "outputs": [
    {
     "data": {
      "text/plain": [
       "'ashutosh'"
      ]
     },
     "execution_count": 38,
     "metadata": {},
     "output_type": "execute_result"
    }
   ],
   "source": [
    "df = df.loc['rowA','student']\n",
    "df"
   ]
  },
  {
   "cell_type": "code",
   "execution_count": 34,
   "id": "3c3949d1-abbb-4dd2-bfa3-3313bd0562d9",
   "metadata": {},
   "outputs": [
    {
     "data": {
      "text/plain": [
       "student    ashutosh\n",
       "rank              1\n",
       "marks            34\n",
       "Name: rowA, dtype: object"
      ]
     },
     "execution_count": 34,
     "metadata": {},
     "output_type": "execute_result"
    }
   ],
   "source": [
    "df = df.loc['rowA']\n",
    "df"
   ]
  },
  {
   "cell_type": "code",
   "execution_count": 118,
   "id": "f5f66c42-ee47-48c7-bd3e-baf125084d5e",
   "metadata": {},
   "outputs": [
    {
     "data": {
      "text/html": [
       "<div>\n",
       "<style scoped>\n",
       "    .dataframe tbody tr th:only-of-type {\n",
       "        vertical-align: middle;\n",
       "    }\n",
       "\n",
       "    .dataframe tbody tr th {\n",
       "        vertical-align: top;\n",
       "    }\n",
       "\n",
       "    .dataframe thead th {\n",
       "        text-align: right;\n",
       "    }\n",
       "</style>\n",
       "<table border=\"1\" class=\"dataframe\">\n",
       "  <thead>\n",
       "    <tr style=\"text-align: right;\">\n",
       "      <th></th>\n",
       "      <th>student</th>\n",
       "      <th>marks</th>\n",
       "    </tr>\n",
       "  </thead>\n",
       "  <tbody>\n",
       "    <tr>\n",
       "      <th>rowA</th>\n",
       "      <td>ashutosh</td>\n",
       "      <td>34</td>\n",
       "    </tr>\n",
       "    <tr>\n",
       "      <th>rowB</th>\n",
       "      <td>mamuni</td>\n",
       "      <td>78</td>\n",
       "    </tr>\n",
       "  </tbody>\n",
       "</table>\n",
       "</div>"
      ],
      "text/plain": [
       "       student  marks\n",
       "rowA  ashutosh     34\n",
       "rowB    mamuni     78"
      ]
     },
     "execution_count": 118,
     "metadata": {},
     "output_type": "execute_result"
    }
   ],
   "source": [
    "df = df.loc[['rowA','rowB'],['student','marks']]\n",
    "df"
   ]
  },
  {
   "cell_type": "code",
   "execution_count": 124,
   "id": "92102cae-251c-47a6-9fed-41d53db14d2f",
   "metadata": {},
   "outputs": [
    {
     "name": "stdout",
     "output_type": "stream",
     "text": [
      "     student  rank  marks\n",
      "rowB  mamuni     2     78\n",
      "rowC  nalini     3     90\n"
     ]
    }
   ],
   "source": [
    "print(df.loc[df['marks']>50])"
   ]
  },
  {
   "cell_type": "code",
   "execution_count": 126,
   "id": "49252af1-aaf0-4d3c-b967-009d449309e7",
   "metadata": {},
   "outputs": [
    {
     "data": {
      "text/html": [
       "<div>\n",
       "<style scoped>\n",
       "    .dataframe tbody tr th:only-of-type {\n",
       "        vertical-align: middle;\n",
       "    }\n",
       "\n",
       "    .dataframe tbody tr th {\n",
       "        vertical-align: top;\n",
       "    }\n",
       "\n",
       "    .dataframe thead th {\n",
       "        text-align: right;\n",
       "    }\n",
       "</style>\n",
       "<table border=\"1\" class=\"dataframe\">\n",
       "  <thead>\n",
       "    <tr style=\"text-align: right;\">\n",
       "      <th></th>\n",
       "      <th>marks</th>\n",
       "    </tr>\n",
       "  </thead>\n",
       "  <tbody>\n",
       "    <tr>\n",
       "      <th>rowB</th>\n",
       "      <td>78</td>\n",
       "    </tr>\n",
       "  </tbody>\n",
       "</table>\n",
       "</div>"
      ],
      "text/plain": [
       "      marks\n",
       "rowB     78"
      ]
     },
     "execution_count": 126,
     "metadata": {},
     "output_type": "execute_result"
    }
   ],
   "source": [
    "df = df.loc[df['marks']>50].iloc[[0],[2]]\n",
    "df"
   ]
  },
  {
   "cell_type": "code",
   "execution_count": 52,
   "id": "e8eabd63-6442-406c-b4e8-c4a88f6c190b",
   "metadata": {},
   "outputs": [],
   "source": [
    "df.loc['rowA','marks'] = 51"
   ]
  },
  {
   "cell_type": "code",
   "execution_count": 53,
   "id": "b133ab0e-2876-47b2-84af-c710a4100e38",
   "metadata": {},
   "outputs": [
    {
     "data": {
      "text/html": [
       "<div>\n",
       "<style scoped>\n",
       "    .dataframe tbody tr th:only-of-type {\n",
       "        vertical-align: middle;\n",
       "    }\n",
       "\n",
       "    .dataframe tbody tr th {\n",
       "        vertical-align: top;\n",
       "    }\n",
       "\n",
       "    .dataframe thead th {\n",
       "        text-align: right;\n",
       "    }\n",
       "</style>\n",
       "<table border=\"1\" class=\"dataframe\">\n",
       "  <thead>\n",
       "    <tr style=\"text-align: right;\">\n",
       "      <th></th>\n",
       "      <th>student</th>\n",
       "      <th>rank</th>\n",
       "      <th>marks</th>\n",
       "    </tr>\n",
       "  </thead>\n",
       "  <tbody>\n",
       "    <tr>\n",
       "      <th>rowA</th>\n",
       "      <td>ashutosh</td>\n",
       "      <td>1</td>\n",
       "      <td>51</td>\n",
       "    </tr>\n",
       "    <tr>\n",
       "      <th>rowB</th>\n",
       "      <td>mamuni</td>\n",
       "      <td>2</td>\n",
       "      <td>78</td>\n",
       "    </tr>\n",
       "    <tr>\n",
       "      <th>rowC</th>\n",
       "      <td>nalini</td>\n",
       "      <td>3</td>\n",
       "      <td>90</td>\n",
       "    </tr>\n",
       "  </tbody>\n",
       "</table>\n",
       "</div>"
      ],
      "text/plain": [
       "       student  rank  marks\n",
       "rowA  ashutosh     1     51\n",
       "rowB    mamuni     2     78\n",
       "rowC    nalini     3     90"
      ]
     },
     "execution_count": 53,
     "metadata": {},
     "output_type": "execute_result"
    }
   ],
   "source": [
    "df"
   ]
  },
  {
   "cell_type": "markdown",
   "id": "c9acdc27-41f9-4522-b4c1-9cd5c35147bf",
   "metadata": {},
   "source": [
    "# Access using rows or columns by integer position"
   ]
  },
  {
   "cell_type": "markdown",
   "id": "e126135e-34ca-4ca0-a512-44db2ce36152",
   "metadata": {},
   "source": [
    "## iloc"
   ]
  },
  {
   "cell_type": "code",
   "execution_count": 58,
   "id": "c5cbbb8d-660d-4b47-81b3-997b2e91436f",
   "metadata": {},
   "outputs": [
    {
     "data": {
      "text/html": [
       "<div>\n",
       "<style scoped>\n",
       "    .dataframe tbody tr th:only-of-type {\n",
       "        vertical-align: middle;\n",
       "    }\n",
       "\n",
       "    .dataframe tbody tr th {\n",
       "        vertical-align: top;\n",
       "    }\n",
       "\n",
       "    .dataframe thead th {\n",
       "        text-align: right;\n",
       "    }\n",
       "</style>\n",
       "<table border=\"1\" class=\"dataframe\">\n",
       "  <thead>\n",
       "    <tr style=\"text-align: right;\">\n",
       "      <th></th>\n",
       "      <th>student</th>\n",
       "      <th>rank</th>\n",
       "      <th>marks</th>\n",
       "    </tr>\n",
       "  </thead>\n",
       "  <tbody>\n",
       "    <tr>\n",
       "      <th>rowA</th>\n",
       "      <td>ashutosh</td>\n",
       "      <td>1</td>\n",
       "      <td>34</td>\n",
       "    </tr>\n",
       "    <tr>\n",
       "      <th>rowB</th>\n",
       "      <td>mamuni</td>\n",
       "      <td>2</td>\n",
       "      <td>78</td>\n",
       "    </tr>\n",
       "    <tr>\n",
       "      <th>rowC</th>\n",
       "      <td>nalini</td>\n",
       "      <td>3</td>\n",
       "      <td>90</td>\n",
       "    </tr>\n",
       "  </tbody>\n",
       "</table>\n",
       "</div>"
      ],
      "text/plain": [
       "       student  rank  marks\n",
       "rowA  ashutosh     1     34\n",
       "rowB    mamuni     2     78\n",
       "rowC    nalini     3     90"
      ]
     },
     "execution_count": 58,
     "metadata": {},
     "output_type": "execute_result"
    }
   ],
   "source": [
    "data = {\n",
    "    'student' : ['ashutosh','mamuni','nalini'],\n",
    "    'rank': [1,2,3],\n",
    "    'marks': [34,78,90]\n",
    "}\n",
    "df = pd.DataFrame(data,index=['rowA','rowB','rowC'])\n",
    "df"
   ]
  },
  {
   "cell_type": "code",
   "execution_count": 63,
   "id": "77aeb135-f042-4efb-bf73-53fac197e233",
   "metadata": {},
   "outputs": [
    {
     "data": {
      "text/html": [
       "<div>\n",
       "<style scoped>\n",
       "    .dataframe tbody tr th:only-of-type {\n",
       "        vertical-align: middle;\n",
       "    }\n",
       "\n",
       "    .dataframe tbody tr th {\n",
       "        vertical-align: top;\n",
       "    }\n",
       "\n",
       "    .dataframe thead th {\n",
       "        text-align: right;\n",
       "    }\n",
       "</style>\n",
       "<table border=\"1\" class=\"dataframe\">\n",
       "  <thead>\n",
       "    <tr style=\"text-align: right;\">\n",
       "      <th></th>\n",
       "      <th>student</th>\n",
       "      <th>rank</th>\n",
       "      <th>marks</th>\n",
       "    </tr>\n",
       "  </thead>\n",
       "  <tbody>\n",
       "    <tr>\n",
       "      <th>rowA</th>\n",
       "      <td>ashutosh</td>\n",
       "      <td>1</td>\n",
       "      <td>34</td>\n",
       "    </tr>\n",
       "    <tr>\n",
       "      <th>rowB</th>\n",
       "      <td>mamuni</td>\n",
       "      <td>2</td>\n",
       "      <td>78</td>\n",
       "    </tr>\n",
       "  </tbody>\n",
       "</table>\n",
       "</div>"
      ],
      "text/plain": [
       "       student  rank  marks\n",
       "rowA  ashutosh     1     34\n",
       "rowB    mamuni     2     78"
      ]
     },
     "execution_count": 63,
     "metadata": {},
     "output_type": "execute_result"
    }
   ],
   "source": [
    "df1 = df.iloc[[0,1]]\n",
    "df1"
   ]
  },
  {
   "cell_type": "code",
   "execution_count": 64,
   "id": "4e1fe947-678a-4126-8410-6f850f758806",
   "metadata": {},
   "outputs": [
    {
     "data": {
      "text/plain": [
       "student    ashutosh\n",
       "rank              1\n",
       "marks            34\n",
       "Name: rowA, dtype: object"
      ]
     },
     "execution_count": 64,
     "metadata": {},
     "output_type": "execute_result"
    }
   ],
   "source": [
    "df2 = df.iloc[0]\n",
    "df2"
   ]
  },
  {
   "cell_type": "code",
   "execution_count": 66,
   "id": "05a3a1b6-6b6f-4eef-b721-756ac8d59872",
   "metadata": {},
   "outputs": [
    {
     "data": {
      "text/plain": [
       "'ashutosh'"
      ]
     },
     "execution_count": 66,
     "metadata": {},
     "output_type": "execute_result"
    }
   ],
   "source": [
    "df3 = df.iloc[0,0]\n",
    "df3"
   ]
  },
  {
   "cell_type": "code",
   "execution_count": 69,
   "id": "03d177d0-b240-49e4-b292-a72604655b77",
   "metadata": {},
   "outputs": [
    {
     "data": {
      "text/html": [
       "<div>\n",
       "<style scoped>\n",
       "    .dataframe tbody tr th:only-of-type {\n",
       "        vertical-align: middle;\n",
       "    }\n",
       "\n",
       "    .dataframe tbody tr th {\n",
       "        vertical-align: top;\n",
       "    }\n",
       "\n",
       "    .dataframe thead th {\n",
       "        text-align: right;\n",
       "    }\n",
       "</style>\n",
       "<table border=\"1\" class=\"dataframe\">\n",
       "  <thead>\n",
       "    <tr style=\"text-align: right;\">\n",
       "      <th></th>\n",
       "      <th>student</th>\n",
       "      <th>marks</th>\n",
       "    </tr>\n",
       "  </thead>\n",
       "  <tbody>\n",
       "    <tr>\n",
       "      <th>rowA</th>\n",
       "      <td>ashutosh</td>\n",
       "      <td>34</td>\n",
       "    </tr>\n",
       "    <tr>\n",
       "      <th>rowB</th>\n",
       "      <td>mamuni</td>\n",
       "      <td>78</td>\n",
       "    </tr>\n",
       "  </tbody>\n",
       "</table>\n",
       "</div>"
      ],
      "text/plain": [
       "       student  marks\n",
       "rowA  ashutosh     34\n",
       "rowB    mamuni     78"
      ]
     },
     "execution_count": 69,
     "metadata": {},
     "output_type": "execute_result"
    }
   ],
   "source": [
    "df4 = df.iloc[[0,1],[0,2]]\n",
    "df4"
   ]
  },
  {
   "cell_type": "code",
   "execution_count": 71,
   "id": "f3a193a0-9964-492d-a6da-acc215916c5a",
   "metadata": {},
   "outputs": [
    {
     "data": {
      "text/html": [
       "<div>\n",
       "<style scoped>\n",
       "    .dataframe tbody tr th:only-of-type {\n",
       "        vertical-align: middle;\n",
       "    }\n",
       "\n",
       "    .dataframe tbody tr th {\n",
       "        vertical-align: top;\n",
       "    }\n",
       "\n",
       "    .dataframe thead th {\n",
       "        text-align: right;\n",
       "    }\n",
       "</style>\n",
       "<table border=\"1\" class=\"dataframe\">\n",
       "  <thead>\n",
       "    <tr style=\"text-align: right;\">\n",
       "      <th></th>\n",
       "      <th>student</th>\n",
       "      <th>rank</th>\n",
       "      <th>marks</th>\n",
       "    </tr>\n",
       "  </thead>\n",
       "  <tbody>\n",
       "    <tr>\n",
       "      <th>rowA</th>\n",
       "      <td>ashutosh</td>\n",
       "      <td>1</td>\n",
       "      <td>34</td>\n",
       "    </tr>\n",
       "    <tr>\n",
       "      <th>rowB</th>\n",
       "      <td>mamuni</td>\n",
       "      <td>2</td>\n",
       "      <td>78</td>\n",
       "    </tr>\n",
       "  </tbody>\n",
       "</table>\n",
       "</div>"
      ],
      "text/plain": [
       "       student  rank  marks\n",
       "rowA  ashutosh     1     34\n",
       "rowB    mamuni     2     78"
      ]
     },
     "execution_count": 71,
     "metadata": {},
     "output_type": "execute_result"
    }
   ],
   "source": [
    "df5 = df.iloc[0:2]\n",
    "df5"
   ]
  },
  {
   "cell_type": "markdown",
   "id": "b04d8afd-fe82-4298-b56a-86080a56d28d",
   "metadata": {},
   "source": [
    "# Iterate DF through FOR LOOP"
   ]
  },
  {
   "cell_type": "code",
   "execution_count": 72,
   "id": "0d81ce66-8906-4e1f-abf3-ad1a135c242f",
   "metadata": {},
   "outputs": [
    {
     "data": {
      "text/html": [
       "<div>\n",
       "<style scoped>\n",
       "    .dataframe tbody tr th:only-of-type {\n",
       "        vertical-align: middle;\n",
       "    }\n",
       "\n",
       "    .dataframe tbody tr th {\n",
       "        vertical-align: top;\n",
       "    }\n",
       "\n",
       "    .dataframe thead th {\n",
       "        text-align: right;\n",
       "    }\n",
       "</style>\n",
       "<table border=\"1\" class=\"dataframe\">\n",
       "  <thead>\n",
       "    <tr style=\"text-align: right;\">\n",
       "      <th></th>\n",
       "      <th>student</th>\n",
       "      <th>rank</th>\n",
       "      <th>marks</th>\n",
       "    </tr>\n",
       "  </thead>\n",
       "  <tbody>\n",
       "    <tr>\n",
       "      <th>rowA</th>\n",
       "      <td>ashutosh</td>\n",
       "      <td>1</td>\n",
       "      <td>34</td>\n",
       "    </tr>\n",
       "    <tr>\n",
       "      <th>rowB</th>\n",
       "      <td>mamuni</td>\n",
       "      <td>2</td>\n",
       "      <td>78</td>\n",
       "    </tr>\n",
       "    <tr>\n",
       "      <th>rowC</th>\n",
       "      <td>nalini</td>\n",
       "      <td>3</td>\n",
       "      <td>90</td>\n",
       "    </tr>\n",
       "  </tbody>\n",
       "</table>\n",
       "</div>"
      ],
      "text/plain": [
       "       student  rank  marks\n",
       "rowA  ashutosh     1     34\n",
       "rowB    mamuni     2     78\n",
       "rowC    nalini     3     90"
      ]
     },
     "execution_count": 72,
     "metadata": {},
     "output_type": "execute_result"
    }
   ],
   "source": [
    "data = {\n",
    "    'student' : ['ashutosh','mamuni','nalini'],\n",
    "    'rank': [1,2,3],\n",
    "    'marks': [34,78,90]\n",
    "}\n",
    "df = pd.DataFrame(data,index=['rowA','rowB','rowC'])\n",
    "df"
   ]
  },
  {
   "cell_type": "code",
   "execution_count": 78,
   "id": "79bbe5a6-84ac-4d1c-b320-818a76ed8a90",
   "metadata": {},
   "outputs": [
    {
     "name": "stdout",
     "output_type": "stream",
     "text": [
      "student\n",
      "rank\n",
      "marks\n"
     ]
    }
   ],
   "source": [
    "for cols in df:\n",
    "    print(cols)"
   ]
  },
  {
   "cell_type": "markdown",
   "id": "10ccef0b-6184-4bca-b35c-3e8483fe5209",
   "metadata": {},
   "source": [
    "# DF - Attributes and Methods\n",
    "### dtypes- Return the data types in the DF\n",
    "### ndim- Return the number of dimensions of the DF\n",
    "### size- Return the  number of elements in the DF\n",
    "### shape- Return the dimensionality of the DF in the form of tuple\n",
    "### index- Return the index of the DataFrame \n",
    "### T- transpose the rows and columns\n",
    "### head()- Return the first N rows\n",
    "### tail()- Return the last N rows"
   ]
  },
  {
   "cell_type": "code",
   "execution_count": 79,
   "id": "546cb414-93f1-4fcb-b25a-4e4637031c2d",
   "metadata": {},
   "outputs": [
    {
     "name": "stdout",
     "output_type": "stream",
     "text": [
      "The history saving thread hit an unexpected error (OperationalError('attempt to write a readonly database')).History will not be written to the database."
     ]
    },
    {
     "data": {
      "text/html": [
       "<div>\n",
       "<style scoped>\n",
       "    .dataframe tbody tr th:only-of-type {\n",
       "        vertical-align: middle;\n",
       "    }\n",
       "\n",
       "    .dataframe tbody tr th {\n",
       "        vertical-align: top;\n",
       "    }\n",
       "\n",
       "    .dataframe thead th {\n",
       "        text-align: right;\n",
       "    }\n",
       "</style>\n",
       "<table border=\"1\" class=\"dataframe\">\n",
       "  <thead>\n",
       "    <tr style=\"text-align: right;\">\n",
       "      <th></th>\n",
       "      <th>student</th>\n",
       "      <th>rank</th>\n",
       "      <th>marks</th>\n",
       "    </tr>\n",
       "  </thead>\n",
       "  <tbody>\n",
       "    <tr>\n",
       "      <th>rowA</th>\n",
       "      <td>ashutosh</td>\n",
       "      <td>1</td>\n",
       "      <td>34</td>\n",
       "    </tr>\n",
       "    <tr>\n",
       "      <th>rowB</th>\n",
       "      <td>mamuni</td>\n",
       "      <td>2</td>\n",
       "      <td>78</td>\n",
       "    </tr>\n",
       "    <tr>\n",
       "      <th>rowC</th>\n",
       "      <td>nalini</td>\n",
       "      <td>3</td>\n",
       "      <td>90</td>\n",
       "    </tr>\n",
       "  </tbody>\n",
       "</table>\n",
       "</div>"
      ],
      "text/plain": [
       "       student  rank  marks\n",
       "rowA  ashutosh     1     34\n",
       "rowB    mamuni     2     78\n",
       "rowC    nalini     3     90"
      ]
     },
     "execution_count": 79,
     "metadata": {},
     "output_type": "execute_result"
    },
    {
     "name": "stdout",
     "output_type": "stream",
     "text": [
      "\n"
     ]
    }
   ],
   "source": [
    "data = {\n",
    "    'student' : ['ashutosh','mamuni','nalini'],\n",
    "    'rank': [1,2,3],\n",
    "    'marks': [34,78,90]\n",
    "}\n",
    "df = pd.DataFrame(data,index=['rowA','rowB','rowC'])\n",
    "df"
   ]
  },
  {
   "cell_type": "code",
   "execution_count": 81,
   "id": "720e41af-0904-4d61-ac5d-30b8f94e8066",
   "metadata": {},
   "outputs": [
    {
     "name": "stdout",
     "output_type": "stream",
     "text": [
      "student    object\n",
      "rank        int64\n",
      "marks       int64\n",
      "dtype: object\n"
     ]
    }
   ],
   "source": [
    "print(df.dtypes)"
   ]
  },
  {
   "cell_type": "code",
   "execution_count": 82,
   "id": "b7ac2fa2-f583-4065-ae61-cd6201a55497",
   "metadata": {},
   "outputs": [
    {
     "name": "stdout",
     "output_type": "stream",
     "text": [
      "2\n"
     ]
    }
   ],
   "source": [
    "print(df.ndim)"
   ]
  },
  {
   "cell_type": "code",
   "execution_count": 83,
   "id": "6a694cca-1d0b-4079-b4c2-28f1b4a286ab",
   "metadata": {},
   "outputs": [
    {
     "name": "stdout",
     "output_type": "stream",
     "text": [
      "9\n"
     ]
    }
   ],
   "source": [
    "print(df.size)"
   ]
  },
  {
   "cell_type": "code",
   "execution_count": 84,
   "id": "6c918f26-a3b7-49b0-846c-a37eaef50213",
   "metadata": {},
   "outputs": [
    {
     "name": "stdout",
     "output_type": "stream",
     "text": [
      "(3, 3)\n"
     ]
    }
   ],
   "source": [
    "print(df.shape)"
   ]
  },
  {
   "cell_type": "code",
   "execution_count": 96,
   "id": "45588a9c-8126-441c-abc9-0a0c55839d42",
   "metadata": {},
   "outputs": [
    {
     "name": "stdout",
     "output_type": "stream",
     "text": [
      "RangeIndex(start=0, stop=3, step=1)\n"
     ]
    }
   ],
   "source": [
    "print(df.index)\n",
    "\n",
    "# Set the 'key' column as index for df1\n",
    "df1 = df1.set_index('A')"
   ]
  },
  {
   "cell_type": "code",
   "execution_count": 97,
   "id": "8fb91840-6d35-4ce4-8060-6deaa452e862",
   "metadata": {},
   "outputs": [
    {
     "name": "stdout",
     "output_type": "stream",
     "text": [
      "                0       1       2\n",
      "student  ashutosh  mamuni  nalini\n",
      "rank            1       2       3\n",
      "marks          34      78      90\n"
     ]
    }
   ],
   "source": [
    "print(df.T)"
   ]
  },
  {
   "cell_type": "code",
   "execution_count": 98,
   "id": "87975801-21ae-4b51-bc59-329afcf99944",
   "metadata": {},
   "outputs": [
    {
     "name": "stdout",
     "output_type": "stream",
     "text": [
      "    student  rank  marks\n",
      "0  ashutosh     1     34\n",
      "1    mamuni     2     78\n"
     ]
    }
   ],
   "source": [
    "print(df.head(2))"
   ]
  },
  {
   "cell_type": "code",
   "execution_count": 99,
   "id": "2c48cbb5-622b-47b8-b63a-3e6cfb24230e",
   "metadata": {},
   "outputs": [
    {
     "name": "stdout",
     "output_type": "stream",
     "text": [
      "  student  rank  marks\n",
      "1  mamuni     2     78\n",
      "2  nalini     3     90\n"
     ]
    }
   ],
   "source": [
    "print(df.tail(2))"
   ]
  },
  {
   "cell_type": "code",
   "execution_count": 100,
   "id": "a5e2cb8e-1fab-4323-844c-7b0dc915825f",
   "metadata": {},
   "outputs": [
    {
     "name": "stdout",
     "output_type": "stream",
     "text": [
      "3\n"
     ]
    }
   ],
   "source": [
    "print(len(df))"
   ]
  },
  {
   "cell_type": "markdown",
   "id": "a3fe8329-b6a6-4f2f-afae-b6d88d9f9f4b",
   "metadata": {},
   "source": [
    "# JOIN DFs"
   ]
  },
  {
   "cell_type": "code",
   "execution_count": 101,
   "id": "bedaaf6f-71f7-4946-a2c5-7df17a6bf89e",
   "metadata": {},
   "outputs": [
    {
     "data": {
      "text/html": [
       "<div>\n",
       "<style scoped>\n",
       "    .dataframe tbody tr th:only-of-type {\n",
       "        vertical-align: middle;\n",
       "    }\n",
       "\n",
       "    .dataframe tbody tr th {\n",
       "        vertical-align: top;\n",
       "    }\n",
       "\n",
       "    .dataframe thead th {\n",
       "        text-align: right;\n",
       "    }\n",
       "</style>\n",
       "<table border=\"1\" class=\"dataframe\">\n",
       "  <thead>\n",
       "    <tr style=\"text-align: right;\">\n",
       "      <th></th>\n",
       "      <th>student</th>\n",
       "      <th>rank</th>\n",
       "      <th>marks</th>\n",
       "    </tr>\n",
       "  </thead>\n",
       "  <tbody>\n",
       "    <tr>\n",
       "      <th>0</th>\n",
       "      <td>ashutosh</td>\n",
       "      <td>1</td>\n",
       "      <td>34</td>\n",
       "    </tr>\n",
       "    <tr>\n",
       "      <th>1</th>\n",
       "      <td>mamuni</td>\n",
       "      <td>2</td>\n",
       "      <td>78</td>\n",
       "    </tr>\n",
       "    <tr>\n",
       "      <th>2</th>\n",
       "      <td>nalini</td>\n",
       "      <td>3</td>\n",
       "      <td>90</td>\n",
       "    </tr>\n",
       "  </tbody>\n",
       "</table>\n",
       "</div>"
      ],
      "text/plain": [
       "    student  rank  marks\n",
       "0  ashutosh     1     34\n",
       "1    mamuni     2     78\n",
       "2    nalini     3     90"
      ]
     },
     "execution_count": 101,
     "metadata": {},
     "output_type": "execute_result"
    }
   ],
   "source": [
    "data = {\n",
    "    'student' : ['ashutosh','mamuni','nalini'],\n",
    "    'rank': [1,2,3],\n",
    "    'marks': [34,78,90]\n",
    "}\n",
    "df = pd.DataFrame(data)\n",
    "df"
   ]
  },
  {
   "cell_type": "code",
   "execution_count": 102,
   "id": "4b69015f-0433-48bc-9dc0-ccbdc2d07c5e",
   "metadata": {},
   "outputs": [
    {
     "data": {
      "text/html": [
       "<div>\n",
       "<style scoped>\n",
       "    .dataframe tbody tr th:only-of-type {\n",
       "        vertical-align: middle;\n",
       "    }\n",
       "\n",
       "    .dataframe tbody tr th {\n",
       "        vertical-align: top;\n",
       "    }\n",
       "\n",
       "    .dataframe thead th {\n",
       "        text-align: right;\n",
       "    }\n",
       "</style>\n",
       "<table border=\"1\" class=\"dataframe\">\n",
       "  <thead>\n",
       "    <tr style=\"text-align: right;\">\n",
       "      <th></th>\n",
       "      <th>roll</th>\n",
       "    </tr>\n",
       "  </thead>\n",
       "  <tbody>\n",
       "    <tr>\n",
       "      <th>0</th>\n",
       "      <td>100</td>\n",
       "    </tr>\n",
       "    <tr>\n",
       "      <th>1</th>\n",
       "      <td>101</td>\n",
       "    </tr>\n",
       "    <tr>\n",
       "      <th>2</th>\n",
       "      <td>102</td>\n",
       "    </tr>\n",
       "  </tbody>\n",
       "</table>\n",
       "</div>"
      ],
      "text/plain": [
       "   roll\n",
       "0   100\n",
       "1   101\n",
       "2   102"
      ]
     },
     "execution_count": 102,
     "metadata": {},
     "output_type": "execute_result"
    }
   ],
   "source": [
    "data = {\n",
    "    'roll' : [100,101,102],\n",
    "}\n",
    "df1 = pd.DataFrame(data)\n",
    "df1"
   ]
  },
  {
   "cell_type": "code",
   "execution_count": 103,
   "id": "fa54f618-5fb4-4b75-b292-8d6a0e8af38b",
   "metadata": {},
   "outputs": [
    {
     "data": {
      "text/html": [
       "<div>\n",
       "<style scoped>\n",
       "    .dataframe tbody tr th:only-of-type {\n",
       "        vertical-align: middle;\n",
       "    }\n",
       "\n",
       "    .dataframe tbody tr th {\n",
       "        vertical-align: top;\n",
       "    }\n",
       "\n",
       "    .dataframe thead th {\n",
       "        text-align: right;\n",
       "    }\n",
       "</style>\n",
       "<table border=\"1\" class=\"dataframe\">\n",
       "  <thead>\n",
       "    <tr style=\"text-align: right;\">\n",
       "      <th></th>\n",
       "      <th>student</th>\n",
       "      <th>rank</th>\n",
       "      <th>marks</th>\n",
       "      <th>roll</th>\n",
       "    </tr>\n",
       "  </thead>\n",
       "  <tbody>\n",
       "    <tr>\n",
       "      <th>0</th>\n",
       "      <td>ashutosh</td>\n",
       "      <td>1</td>\n",
       "      <td>34</td>\n",
       "      <td>100</td>\n",
       "    </tr>\n",
       "    <tr>\n",
       "      <th>1</th>\n",
       "      <td>mamuni</td>\n",
       "      <td>2</td>\n",
       "      <td>78</td>\n",
       "      <td>101</td>\n",
       "    </tr>\n",
       "    <tr>\n",
       "      <th>2</th>\n",
       "      <td>nalini</td>\n",
       "      <td>3</td>\n",
       "      <td>90</td>\n",
       "      <td>102</td>\n",
       "    </tr>\n",
       "  </tbody>\n",
       "</table>\n",
       "</div>"
      ],
      "text/plain": [
       "    student  rank  marks  roll\n",
       "0  ashutosh     1     34   100\n",
       "1    mamuni     2     78   101\n",
       "2    nalini     3     90   102"
      ]
     },
     "execution_count": 103,
     "metadata": {},
     "output_type": "execute_result"
    }
   ],
   "source": [
    "df2 = df.join(df1)\n",
    "df2"
   ]
  },
  {
   "cell_type": "code",
   "execution_count": 104,
   "id": "4b4fe127-d61f-46e7-817b-af578487ebb0",
   "metadata": {},
   "outputs": [
    {
     "name": "stdout",
     "output_type": "stream",
     "text": [
      "   A  B  C   D\n",
      "b  2  5  7  10\n",
      "c  3  6  8  11\n"
     ]
    }
   ],
   "source": [
    "# Example DataFrames\n",
    "df1 = pd.DataFrame({\n",
    "    'A': [1, 2, 3],\n",
    "    'B': [4, 5, 6]\n",
    "}, index=['a', 'b', 'c'])\n",
    "\n",
    "df2 = pd.DataFrame({\n",
    "    'C': [7, 8, 9],\n",
    "    'D': [10, 11, 12]\n",
    "}, index=['b', 'c', 'd'])\n",
    "\n",
    "# Join using index (default)\n",
    "result = df1.join(df2, how='inner')\n",
    "print(result)\n"
   ]
  },
  {
   "cell_type": "code",
   "execution_count": 105,
   "id": "a76b88aa-b8ff-417c-b506-32291b29dc5c",
   "metadata": {},
   "outputs": [
    {
     "name": "stdout",
     "output_type": "stream",
     "text": [
      "  key  value_x  value_y\n",
      "0   B        2        4\n",
      "1   C        3        5\n"
     ]
    }
   ],
   "source": [
    "import pandas as pd\n",
    "\n",
    "# Example DataFrames\n",
    "df1 = pd.DataFrame({\n",
    "    'key': ['A', 'B', 'C'],\n",
    "    'value': [1, 2, 3]\n",
    "})\n",
    "\n",
    "df2 = pd.DataFrame({\n",
    "    'key': ['B', 'C', 'D'],\n",
    "    'value': [4, 5, 6]\n",
    "})\n",
    "\n",
    "# Merge using an inner join on 'key'\n",
    "result = pd.merge(df1, df2, on='key', how='inner')\n",
    "print(result)\n"
   ]
  },
  {
   "cell_type": "code",
   "execution_count": 106,
   "id": "9a3ec63a-8cb2-4c54-a6ef-c36f31082d3a",
   "metadata": {},
   "outputs": [
    {
     "name": "stdout",
     "output_type": "stream",
     "text": [
      "   A  B\n",
      "0  1  3\n",
      "1  2  4\n",
      "2  5  7\n",
      "3  6  8\n"
     ]
    }
   ],
   "source": [
    "# Concatenate two DataFrames vertically (rows)\n",
    "df1 = pd.DataFrame({'A': [1, 2], 'B': [3, 4]})\n",
    "df2 = pd.DataFrame({'A': [5, 6], 'B': [7, 8]})\n",
    "\n",
    "result = pd.concat([df1, df2], axis=0, ignore_index=True)\n",
    "print(result)\n"
   ]
  },
  {
   "cell_type": "code",
   "execution_count": 111,
   "id": "b295381d-6863-4043-b32d-929244ccd213",
   "metadata": {},
   "outputs": [
    {
     "name": "stdout",
     "output_type": "stream",
     "text": [
      "   A  B\n",
      "0  1  3\n",
      "1  2  4\n"
     ]
    }
   ],
   "source": [
    "# Concatenate two DataFrames horizontally (columns)\n",
    "df1 = pd.DataFrame({'A': [1, 2]})\n",
    "df2 = pd.DataFrame({'B': [3, 4]})\n",
    "\n",
    "result = pd.concat([df1, df2], axis=1)\n",
    "print(result)\n"
   ]
  },
  {
   "cell_type": "markdown",
   "id": "067b8465-2af2-426e-ac12-e09e70e26fb0",
   "metadata": {},
   "source": [
    "# Series"
   ]
  },
  {
   "cell_type": "code",
   "execution_count": 127,
   "id": "854d1c1a-e267-457c-b604-9b3d500597dc",
   "metadata": {},
   "outputs": [
    {
     "data": {
      "text/plain": [
       "0    10\n",
       "1    20\n",
       "2    30\n",
       "3    40\n",
       "4    50\n",
       "5    60\n",
       "dtype: int64"
      ]
     },
     "execution_count": 127,
     "metadata": {},
     "output_type": "execute_result"
    }
   ],
   "source": [
    "data = [10,20,30,40,50,60]\n",
    "s = pd.Series(data)\n",
    "s"
   ]
  },
  {
   "cell_type": "code",
   "execution_count": 130,
   "id": "42135262-d37c-4dcf-bb27-d0ba238c7d54",
   "metadata": {},
   "outputs": [
    {
     "data": {
      "text/plain": [
       "a    10\n",
       "b    20\n",
       "c    30\n",
       "d    40\n",
       "e    50\n",
       "f    60\n",
       "dtype: int64"
      ]
     },
     "execution_count": 130,
     "metadata": {},
     "output_type": "execute_result"
    }
   ],
   "source": [
    "#Name your own indexes in Pandas Series\n",
    "data = [10,20,30,40,50,60]\n",
    "s1 = pd.Series(data, index=['a','b','c','d','e','f'])\n",
    "s1"
   ]
  },
  {
   "cell_type": "markdown",
   "id": "8b763ee0-ff81-4358-a16a-9bafb4d8a871",
   "metadata": {},
   "source": [
    "### Access the data from Series"
   ]
  },
  {
   "cell_type": "code",
   "execution_count": 128,
   "id": "936d18d6-ad47-4709-a615-cba6c0b3069f",
   "metadata": {},
   "outputs": [
    {
     "name": "stdout",
     "output_type": "stream",
     "text": [
      "30\n"
     ]
    }
   ],
   "source": [
    "print(s[2])"
   ]
  },
  {
   "cell_type": "markdown",
   "id": "67f01482-d491-4666-aee4-d3c0a192f226",
   "metadata": {},
   "source": [
    "### Access the data from Series with Labels"
   ]
  },
  {
   "cell_type": "code",
   "execution_count": 132,
   "id": "f83725a1-4116-4a4d-aaea-1b6ff107c1c4",
   "metadata": {},
   "outputs": [
    {
     "name": "stdout",
     "output_type": "stream",
     "text": [
      "40\n"
     ]
    }
   ],
   "source": [
    "print(s1['d'])"
   ]
  },
  {
   "cell_type": "code",
   "execution_count": 133,
   "id": "4019f677-c1ff-4812-9e94-3b6fc907ac74",
   "metadata": {},
   "outputs": [
    {
     "name": "stdout",
     "output_type": "stream",
     "text": [
      "a    10\n",
      "b    20\n",
      "c    30\n",
      "d    40\n",
      "e    50\n",
      "dtype: int64\n"
     ]
    }
   ],
   "source": [
    "print(s1['a':'e'])"
   ]
  },
  {
   "cell_type": "markdown",
   "id": "4d05a687-5328-4a7f-9dc9-06bbb75c9375",
   "metadata": {},
   "source": [
    "## Attributes and Methods\n",
    "### dtype - Return the data type\n",
    "### ndim - Return the number of dimensions\n",
    "### size - Return the number of elements\n",
    "### name - Return the name of the Series\n",
    "### hasnans - Return True if NaNs are in the Series\n",
    "### index - The index of the Series\n",
    "### head() - Return the first N rows\n",
    "### tail() - Return the last N rows\n",
    "### info() - Display the summary of the Series"
   ]
  },
  {
   "cell_type": "code",
   "execution_count": 151,
   "id": "7c0145f9-7621-4922-9edf-e9f32e2fb7fd",
   "metadata": {},
   "outputs": [
    {
     "data": {
      "text/plain": [
       "a      10\n",
       "b      20\n",
       "c      30\n",
       "d      40\n",
       "e      50\n",
       "f    Ashu\n",
       "Name: series_naming, dtype: object"
      ]
     },
     "execution_count": 151,
     "metadata": {},
     "output_type": "execute_result"
    }
   ],
   "source": [
    "data = [10,20,30,40,50,'Ashu']\n",
    "s2 = pd.Series(data, index=['a','b','c','d','e','f'], name=\"series_naming\")\n",
    "s2"
   ]
  },
  {
   "cell_type": "code",
   "execution_count": 153,
   "id": "32600299-08b4-45dc-a11a-0dafadd50120",
   "metadata": {},
   "outputs": [
    {
     "name": "stdout",
     "output_type": "stream",
     "text": [
      "object\n"
     ]
    }
   ],
   "source": [
    "print(s2.dtype)"
   ]
  },
  {
   "cell_type": "code",
   "execution_count": 154,
   "id": "ae0e3485-681e-417e-80c4-4bd91a1da205",
   "metadata": {},
   "outputs": [
    {
     "name": "stdout",
     "output_type": "stream",
     "text": [
      "1\n"
     ]
    }
   ],
   "source": [
    "print(s2.ndim)"
   ]
  },
  {
   "cell_type": "code",
   "execution_count": 155,
   "id": "90bcefee-d1f0-45d4-a94a-3e035217141e",
   "metadata": {},
   "outputs": [
    {
     "name": "stdout",
     "output_type": "stream",
     "text": [
      "6\n"
     ]
    }
   ],
   "source": [
    "print(s2.size)"
   ]
  },
  {
   "cell_type": "code",
   "execution_count": 156,
   "id": "eb5b1059-2b04-43b5-abce-ab54b3d2beff",
   "metadata": {},
   "outputs": [
    {
     "name": "stdout",
     "output_type": "stream",
     "text": [
      "series_naming\n"
     ]
    }
   ],
   "source": [
    "print(s2.name)"
   ]
  },
  {
   "cell_type": "code",
   "execution_count": 157,
   "id": "b2bced36-10e2-4a17-b0a1-eb13d29f3550",
   "metadata": {},
   "outputs": [
    {
     "name": "stdout",
     "output_type": "stream",
     "text": [
      "False\n"
     ]
    }
   ],
   "source": [
    "print(s2.hasnans)"
   ]
  },
  {
   "cell_type": "code",
   "execution_count": 158,
   "id": "70b983dc-18ea-4128-9ae9-ccbccf5eb509",
   "metadata": {},
   "outputs": [
    {
     "name": "stdout",
     "output_type": "stream",
     "text": [
      "Index(['a', 'b', 'c', 'd', 'e', 'f'], dtype='object')\n"
     ]
    }
   ],
   "source": [
    "print(s2.index)"
   ]
  },
  {
   "cell_type": "code",
   "execution_count": 159,
   "id": "8ef9eb19-9102-4aed-b6ca-f854f535258d",
   "metadata": {},
   "outputs": [
    {
     "name": "stdout",
     "output_type": "stream",
     "text": [
      "a    10\n",
      "b    20\n",
      "c    30\n",
      "Name: series_naming, dtype: object\n"
     ]
    }
   ],
   "source": [
    "print(s2.head(3))"
   ]
  },
  {
   "cell_type": "code",
   "execution_count": 160,
   "id": "243913a5-58c0-422e-891e-1dce6175a966",
   "metadata": {},
   "outputs": [
    {
     "name": "stdout",
     "output_type": "stream",
     "text": [
      "c      30\n",
      "d      40\n",
      "e      50\n",
      "f    Ashu\n",
      "Name: series_naming, dtype: object\n"
     ]
    }
   ],
   "source": [
    "print(s2.tail(4))"
   ]
  },
  {
   "cell_type": "code",
   "execution_count": 162,
   "id": "7735966a-34ca-4ebe-807b-0f954539f130",
   "metadata": {},
   "outputs": [
    {
     "name": "stdout",
     "output_type": "stream",
     "text": [
      "<bound method Series.info of a      10\n",
      "b      20\n",
      "c      30\n",
      "d      40\n",
      "e      50\n",
      "f    Ashu\n",
      "Name: series_naming, dtype: object>\n"
     ]
    }
   ],
   "source": [
    "print(s2.info)"
   ]
  },
  {
   "cell_type": "markdown",
   "id": "2d1e1bdd-f53c-444f-ab8b-952abad43bdb",
   "metadata": {},
   "source": [
    "## Combine two Pandas DFs"
   ]
  },
  {
   "cell_type": "code",
   "execution_count": 164,
   "id": "8380ecc6-4271-49ca-b9cb-189ce824a8d1",
   "metadata": {},
   "outputs": [
    {
     "name": "stdout",
     "output_type": "stream",
     "text": [
      "0     8\n",
      "1     9\n",
      "2    10\n",
      "3    11\n",
      "4    12\n",
      "5    13\n",
      "6    14\n",
      "dtype: int64\n"
     ]
    }
   ],
   "source": [
    "data1 = [1,2,3,4,5,6,7]\n",
    "data2 = [8,9,10,11,12,13,14]\n",
    "s1 = pd.Series(data1)\n",
    "s2 = pd.Series(data2)\n",
    "\n",
    "def demo(s1,s2):\n",
    "    if s1>s2:\n",
    "        return s1\n",
    "    else:\n",
    "        return s2\n",
    "output = s1.combine(s2,demo)\n",
    "print(output)\n"
   ]
  },
  {
   "cell_type": "code",
   "execution_count": 166,
   "id": "6d1080c5-142e-4739-9c7b-4f243a78a190",
   "metadata": {},
   "outputs": [
    {
     "name": "stdout",
     "output_type": "stream",
     "text": [
      "0     8\n",
      "1     9\n",
      "2    10\n",
      "3    11\n",
      "4    12\n",
      "5    13\n",
      "6    14\n",
      "dtype: int64\n"
     ]
    }
   ],
   "source": [
    "output = s1.combine(s2, lambda s1,s2:s1 if s1>s2 else s2)\n",
    "print(output)"
   ]
  },
  {
   "cell_type": "markdown",
   "id": "30e10067-d4bd-4f49-bdd9-41cd8158960a",
   "metadata": {},
   "source": [
    "# Pandas Categorical Data"
   ]
  },
  {
   "cell_type": "code",
   "execution_count": 170,
   "id": "a3432d46-1417-43d2-a7db-cb3fa07f202d",
   "metadata": {},
   "outputs": [
    {
     "data": {
      "text/plain": [
       "0    a\n",
       "1    b\n",
       "2    c\n",
       "3    d\n",
       "dtype: category\n",
       "Categories (4, object): ['a', 'b', 'c', 'd']"
      ]
     },
     "execution_count": 170,
     "metadata": {},
     "output_type": "execute_result"
    }
   ],
   "source": [
    "s = pd.Series( data=['a','b','c','d'], dtype='category')\n",
    "s"
   ]
  },
  {
   "cell_type": "code",
   "execution_count": 172,
   "id": "ac8f328c-5078-4207-aa73-00448a82ca6b",
   "metadata": {},
   "outputs": [
    {
     "data": {
      "text/html": [
       "<div>\n",
       "<style scoped>\n",
       "    .dataframe tbody tr th:only-of-type {\n",
       "        vertical-align: middle;\n",
       "    }\n",
       "\n",
       "    .dataframe tbody tr th {\n",
       "        vertical-align: top;\n",
       "    }\n",
       "\n",
       "    .dataframe thead th {\n",
       "        text-align: right;\n",
       "    }\n",
       "</style>\n",
       "<table border=\"1\" class=\"dataframe\">\n",
       "  <thead>\n",
       "    <tr style=\"text-align: right;\">\n",
       "      <th></th>\n",
       "      <th>name</th>\n",
       "    </tr>\n",
       "  </thead>\n",
       "  <tbody>\n",
       "    <tr>\n",
       "      <th>0</th>\n",
       "      <td>p</td>\n",
       "    </tr>\n",
       "    <tr>\n",
       "      <th>1</th>\n",
       "      <td>q</td>\n",
       "    </tr>\n",
       "    <tr>\n",
       "      <th>2</th>\n",
       "      <td>r</td>\n",
       "    </tr>\n",
       "    <tr>\n",
       "      <th>3</th>\n",
       "      <td>s</td>\n",
       "    </tr>\n",
       "  </tbody>\n",
       "</table>\n",
       "</div>"
      ],
      "text/plain": [
       "  name\n",
       "0    p\n",
       "1    q\n",
       "2    r\n",
       "3    s"
      ]
     },
     "execution_count": 172,
     "metadata": {},
     "output_type": "execute_result"
    }
   ],
   "source": [
    "df = pd.DataFrame(data={'name':list('pqrs')},dtype='category')\n",
    "df"
   ]
  },
  {
   "cell_type": "markdown",
   "id": "f16e5785-6efb-4e07-b674-96fbcad77b78",
   "metadata": {},
   "source": [
    "# indexing\n",
    "### Indexing means selecting specific rows and columns of data from datafrmae. A dataframe includes columns, index and data."
   ]
  },
  {
   "cell_type": "markdown",
   "id": "771f62af-86dd-46b5-9279-808344479e6f",
   "metadata": {},
   "source": [
    "### 1. Indexing in pandas using the indexing operator[].\n",
    "### 2. Indexing in pandas using loc[].\n",
    "### 3. Indexing in pandas using iloc[]."
   ]
  },
  {
   "cell_type": "code",
   "execution_count": 13,
   "id": "5dfc525c-853b-4144-b085-3cfc9a4a8fac",
   "metadata": {},
   "outputs": [
    {
     "data": {
      "text/html": [
       "<div>\n",
       "<style scoped>\n",
       "    .dataframe tbody tr th:only-of-type {\n",
       "        vertical-align: middle;\n",
       "    }\n",
       "\n",
       "    .dataframe tbody tr th {\n",
       "        vertical-align: top;\n",
       "    }\n",
       "\n",
       "    .dataframe thead th {\n",
       "        text-align: right;\n",
       "    }\n",
       "</style>\n",
       "<table border=\"1\" class=\"dataframe\">\n",
       "  <thead>\n",
       "    <tr style=\"text-align: right;\">\n",
       "      <th></th>\n",
       "      <th>Store ID</th>\n",
       "      <th>Store_Area</th>\n",
       "      <th>Items_Available</th>\n",
       "      <th>Daily_Customer_Count</th>\n",
       "      <th>Store_Sales</th>\n",
       "    </tr>\n",
       "  </thead>\n",
       "  <tbody>\n",
       "    <tr>\n",
       "      <th>0</th>\n",
       "      <td>1</td>\n",
       "      <td>1659</td>\n",
       "      <td>1961</td>\n",
       "      <td>530</td>\n",
       "      <td>66490</td>\n",
       "    </tr>\n",
       "    <tr>\n",
       "      <th>1</th>\n",
       "      <td>2</td>\n",
       "      <td>1461</td>\n",
       "      <td>1752</td>\n",
       "      <td>210</td>\n",
       "      <td>39820</td>\n",
       "    </tr>\n",
       "    <tr>\n",
       "      <th>2</th>\n",
       "      <td>3</td>\n",
       "      <td>1340</td>\n",
       "      <td>1609</td>\n",
       "      <td>720</td>\n",
       "      <td>54010</td>\n",
       "    </tr>\n",
       "    <tr>\n",
       "      <th>3</th>\n",
       "      <td>4</td>\n",
       "      <td>1451</td>\n",
       "      <td>1748</td>\n",
       "      <td>620</td>\n",
       "      <td>53730</td>\n",
       "    </tr>\n",
       "    <tr>\n",
       "      <th>4</th>\n",
       "      <td>5</td>\n",
       "      <td>1770</td>\n",
       "      <td>2111</td>\n",
       "      <td>450</td>\n",
       "      <td>46620</td>\n",
       "    </tr>\n",
       "    <tr>\n",
       "      <th>...</th>\n",
       "      <td>...</td>\n",
       "      <td>...</td>\n",
       "      <td>...</td>\n",
       "      <td>...</td>\n",
       "      <td>...</td>\n",
       "    </tr>\n",
       "    <tr>\n",
       "      <th>891</th>\n",
       "      <td>892</td>\n",
       "      <td>1582</td>\n",
       "      <td>1910</td>\n",
       "      <td>1080</td>\n",
       "      <td>66390</td>\n",
       "    </tr>\n",
       "    <tr>\n",
       "      <th>892</th>\n",
       "      <td>893</td>\n",
       "      <td>1387</td>\n",
       "      <td>1663</td>\n",
       "      <td>850</td>\n",
       "      <td>82080</td>\n",
       "    </tr>\n",
       "    <tr>\n",
       "      <th>893</th>\n",
       "      <td>894</td>\n",
       "      <td>1200</td>\n",
       "      <td>1436</td>\n",
       "      <td>1060</td>\n",
       "      <td>76440</td>\n",
       "    </tr>\n",
       "    <tr>\n",
       "      <th>894</th>\n",
       "      <td>895</td>\n",
       "      <td>1299</td>\n",
       "      <td>1560</td>\n",
       "      <td>770</td>\n",
       "      <td>96610</td>\n",
       "    </tr>\n",
       "    <tr>\n",
       "      <th>895</th>\n",
       "      <td>896</td>\n",
       "      <td>1174</td>\n",
       "      <td>1429</td>\n",
       "      <td>1110</td>\n",
       "      <td>54340</td>\n",
       "    </tr>\n",
       "  </tbody>\n",
       "</table>\n",
       "<p>896 rows × 5 columns</p>\n",
       "</div>"
      ],
      "text/plain": [
       "     Store ID   Store_Area  Items_Available  Daily_Customer_Count  Store_Sales\n",
       "0            1        1659             1961                   530        66490\n",
       "1            2        1461             1752                   210        39820\n",
       "2            3        1340             1609                   720        54010\n",
       "3            4        1451             1748                   620        53730\n",
       "4            5        1770             2111                   450        46620\n",
       "..         ...         ...              ...                   ...          ...\n",
       "891        892        1582             1910                  1080        66390\n",
       "892        893        1387             1663                   850        82080\n",
       "893        894        1200             1436                  1060        76440\n",
       "894        895        1299             1560                   770        96610\n",
       "895        896        1174             1429                  1110        54340\n",
       "\n",
       "[896 rows x 5 columns]"
      ]
     },
     "execution_count": 13,
     "metadata": {},
     "output_type": "execute_result"
    }
   ],
   "source": [
    "df = pd.read_csv('sales.csv')\n",
    "df"
   ]
  },
  {
   "cell_type": "code",
   "execution_count": 23,
   "id": "743c682f-5175-4b88-9eaa-accd476766b7",
   "metadata": {},
   "outputs": [
    {
     "data": {
      "text/plain": [
       "0    1659\n",
       "1    1461\n",
       "2    1340\n",
       "3    1451\n",
       "4    1770\n",
       "Name: Store_Area, dtype: int64"
      ]
     },
     "execution_count": 23,
     "metadata": {},
     "output_type": "execute_result"
    }
   ],
   "source": [
    "df1 = df['Store_Area']\n",
    "df1.head()"
   ]
  },
  {
   "cell_type": "code",
   "execution_count": 24,
   "id": "79880ee4-3f38-4308-833c-e391b644b5a3",
   "metadata": {},
   "outputs": [
    {
     "data": {
      "text/html": [
       "<div>\n",
       "<style scoped>\n",
       "    .dataframe tbody tr th:only-of-type {\n",
       "        vertical-align: middle;\n",
       "    }\n",
       "\n",
       "    .dataframe tbody tr th {\n",
       "        vertical-align: top;\n",
       "    }\n",
       "\n",
       "    .dataframe thead th {\n",
       "        text-align: right;\n",
       "    }\n",
       "</style>\n",
       "<table border=\"1\" class=\"dataframe\">\n",
       "  <thead>\n",
       "    <tr style=\"text-align: right;\">\n",
       "      <th></th>\n",
       "      <th>Items_Available</th>\n",
       "      <th>Store_Area</th>\n",
       "    </tr>\n",
       "  </thead>\n",
       "  <tbody>\n",
       "    <tr>\n",
       "      <th>0</th>\n",
       "      <td>1961</td>\n",
       "      <td>1659</td>\n",
       "    </tr>\n",
       "    <tr>\n",
       "      <th>1</th>\n",
       "      <td>1752</td>\n",
       "      <td>1461</td>\n",
       "    </tr>\n",
       "    <tr>\n",
       "      <th>2</th>\n",
       "      <td>1609</td>\n",
       "      <td>1340</td>\n",
       "    </tr>\n",
       "    <tr>\n",
       "      <th>3</th>\n",
       "      <td>1748</td>\n",
       "      <td>1451</td>\n",
       "    </tr>\n",
       "    <tr>\n",
       "      <th>4</th>\n",
       "      <td>2111</td>\n",
       "      <td>1770</td>\n",
       "    </tr>\n",
       "  </tbody>\n",
       "</table>\n",
       "</div>"
      ],
      "text/plain": [
       "   Items_Available  Store_Area\n",
       "0             1961        1659\n",
       "1             1752        1461\n",
       "2             1609        1340\n",
       "3             1748        1451\n",
       "4             2111        1770"
      ]
     },
     "execution_count": 24,
     "metadata": {},
     "output_type": "execute_result"
    }
   ],
   "source": [
    "df2 = df[['Items_Available','Store_Area']]\n",
    "df2.head()"
   ]
  },
  {
   "cell_type": "markdown",
   "id": "9d2e0f31-7023-47cd-bc02-d4adf95ac127",
   "metadata": {},
   "source": [
    "### Access Single Row"
   ]
  },
  {
   "cell_type": "code",
   "execution_count": 28,
   "id": "3685dd7d-e8e8-456e-ab76-4b06211d96fe",
   "metadata": {},
   "outputs": [
    {
     "data": {
      "text/plain": [
       "Store ID                    3\n",
       "Store_Area               1340\n",
       "Items_Available          1609\n",
       "Daily_Customer_Count      720\n",
       "Store_Sales             54010\n",
       "Name: 2, dtype: int64"
      ]
     },
     "execution_count": 28,
     "metadata": {},
     "output_type": "execute_result"
    }
   ],
   "source": [
    "df3 = df.loc[2]\n",
    "df3"
   ]
  },
  {
   "cell_type": "code",
   "execution_count": 38,
   "id": "2a957f21-625a-48af-8d58-7602bd7a9ac1",
   "metadata": {},
   "outputs": [
    {
     "data": {
      "text/html": [
       "<div>\n",
       "<style scoped>\n",
       "    .dataframe tbody tr th:only-of-type {\n",
       "        vertical-align: middle;\n",
       "    }\n",
       "\n",
       "    .dataframe tbody tr th {\n",
       "        vertical-align: top;\n",
       "    }\n",
       "\n",
       "    .dataframe thead th {\n",
       "        text-align: right;\n",
       "    }\n",
       "</style>\n",
       "<table border=\"1\" class=\"dataframe\">\n",
       "  <thead>\n",
       "    <tr style=\"text-align: right;\">\n",
       "      <th></th>\n",
       "      <th>Store ID</th>\n",
       "      <th>Store_Area</th>\n",
       "      <th>Items_Available</th>\n",
       "      <th>Daily_Customer_Count</th>\n",
       "      <th>Store_Sales</th>\n",
       "    </tr>\n",
       "  </thead>\n",
       "  <tbody>\n",
       "    <tr>\n",
       "      <th>2</th>\n",
       "      <td>3</td>\n",
       "      <td>1340</td>\n",
       "      <td>1609</td>\n",
       "      <td>720</td>\n",
       "      <td>54010</td>\n",
       "    </tr>\n",
       "    <tr>\n",
       "      <th>3</th>\n",
       "      <td>4</td>\n",
       "      <td>1451</td>\n",
       "      <td>1748</td>\n",
       "      <td>620</td>\n",
       "      <td>53730</td>\n",
       "    </tr>\n",
       "  </tbody>\n",
       "</table>\n",
       "</div>"
      ],
      "text/plain": [
       "   Store ID   Store_Area  Items_Available  Daily_Customer_Count  Store_Sales\n",
       "2          3        1340             1609                   720        54010\n",
       "3          4        1451             1748                   620        53730"
      ]
     },
     "execution_count": 38,
     "metadata": {},
     "output_type": "execute_result"
    }
   ],
   "source": [
    "df4 = df.loc[[2,3]]\n",
    "df4"
   ]
  },
  {
   "cell_type": "code",
   "execution_count": 30,
   "id": "035e366f-0687-4608-9d58-7b32625c638c",
   "metadata": {},
   "outputs": [
    {
     "data": {
      "text/plain": [
       "Store ID                    3\n",
       "Store_Area               1340\n",
       "Items_Available          1609\n",
       "Daily_Customer_Count      720\n",
       "Store_Sales             54010\n",
       "Name: 2, dtype: int64"
      ]
     },
     "execution_count": 30,
     "metadata": {},
     "output_type": "execute_result"
    }
   ],
   "source": [
    "df5 = df.iloc[2]\n",
    "df5"
   ]
  },
  {
   "cell_type": "code",
   "execution_count": 31,
   "id": "0115cb52-6ece-423f-90c3-3ca5849d070c",
   "metadata": {},
   "outputs": [
    {
     "data": {
      "text/html": [
       "<div>\n",
       "<style scoped>\n",
       "    .dataframe tbody tr th:only-of-type {\n",
       "        vertical-align: middle;\n",
       "    }\n",
       "\n",
       "    .dataframe tbody tr th {\n",
       "        vertical-align: top;\n",
       "    }\n",
       "\n",
       "    .dataframe thead th {\n",
       "        text-align: right;\n",
       "    }\n",
       "</style>\n",
       "<table border=\"1\" class=\"dataframe\">\n",
       "  <thead>\n",
       "    <tr style=\"text-align: right;\">\n",
       "      <th></th>\n",
       "      <th>Store ID</th>\n",
       "      <th>Store_Area</th>\n",
       "      <th>Items_Available</th>\n",
       "      <th>Daily_Customer_Count</th>\n",
       "      <th>Store_Sales</th>\n",
       "    </tr>\n",
       "  </thead>\n",
       "  <tbody>\n",
       "    <tr>\n",
       "      <th>2</th>\n",
       "      <td>3</td>\n",
       "      <td>1340</td>\n",
       "      <td>1609</td>\n",
       "      <td>720</td>\n",
       "      <td>54010</td>\n",
       "    </tr>\n",
       "    <tr>\n",
       "      <th>3</th>\n",
       "      <td>4</td>\n",
       "      <td>1451</td>\n",
       "      <td>1748</td>\n",
       "      <td>620</td>\n",
       "      <td>53730</td>\n",
       "    </tr>\n",
       "  </tbody>\n",
       "</table>\n",
       "</div>"
      ],
      "text/plain": [
       "   Store ID   Store_Area  Items_Available  Daily_Customer_Count  Store_Sales\n",
       "2          3        1340             1609                   720        54010\n",
       "3          4        1451             1748                   620        53730"
      ]
     },
     "execution_count": 31,
     "metadata": {},
     "output_type": "execute_result"
    }
   ],
   "source": [
    "df6=df.iloc[[2,3]]\n",
    "df6"
   ]
  },
  {
   "cell_type": "code",
   "execution_count": 33,
   "id": "ff8af83a-9a12-45e9-b910-98debcfe6a9e",
   "metadata": {},
   "outputs": [
    {
     "data": {
      "text/plain": [
       "1340"
      ]
     },
     "execution_count": 33,
     "metadata": {},
     "output_type": "execute_result"
    }
   ],
   "source": [
    "df7 = df.iloc[2,1]\n",
    "df7"
   ]
  },
  {
   "cell_type": "code",
   "execution_count": 35,
   "id": "ff845909-b88c-487d-a7c0-6aa9324bfe36",
   "metadata": {},
   "outputs": [
    {
     "data": {
      "text/html": [
       "<div>\n",
       "<style scoped>\n",
       "    .dataframe tbody tr th:only-of-type {\n",
       "        vertical-align: middle;\n",
       "    }\n",
       "\n",
       "    .dataframe tbody tr th {\n",
       "        vertical-align: top;\n",
       "    }\n",
       "\n",
       "    .dataframe thead th {\n",
       "        text-align: right;\n",
       "    }\n",
       "</style>\n",
       "<table border=\"1\" class=\"dataframe\">\n",
       "  <thead>\n",
       "    <tr style=\"text-align: right;\">\n",
       "      <th></th>\n",
       "      <th>Store_Area</th>\n",
       "      <th>Items_Available</th>\n",
       "      <th>Store ID</th>\n",
       "    </tr>\n",
       "  </thead>\n",
       "  <tbody>\n",
       "    <tr>\n",
       "      <th>2</th>\n",
       "      <td>1340</td>\n",
       "      <td>1609</td>\n",
       "      <td>3</td>\n",
       "    </tr>\n",
       "    <tr>\n",
       "      <th>3</th>\n",
       "      <td>1451</td>\n",
       "      <td>1748</td>\n",
       "      <td>4</td>\n",
       "    </tr>\n",
       "  </tbody>\n",
       "</table>\n",
       "</div>"
      ],
      "text/plain": [
       "   Store_Area  Items_Available  Store ID \n",
       "2        1340             1609          3\n",
       "3        1451             1748          4"
      ]
     },
     "execution_count": 35,
     "metadata": {},
     "output_type": "execute_result"
    }
   ],
   "source": [
    "df8=df.iloc[[2,3],[1,2,0]]\n",
    "df8"
   ]
  },
  {
   "cell_type": "code",
   "execution_count": 44,
   "id": "b9674111-87f5-4e16-8460-7770b3e336af",
   "metadata": {},
   "outputs": [
    {
     "name": "stdout",
     "output_type": "stream",
     "text": [
      "Index(['Store ID ', 'Store_Area', 'Items_Available'], dtype='object')\n"
     ]
    }
   ],
   "source": [
    "print(df.columns[0:3])"
   ]
  },
  {
   "cell_type": "code",
   "execution_count": 45,
   "id": "c3bc9a54-4c33-45a6-b93c-655d48ce7272",
   "metadata": {},
   "outputs": [
    {
     "name": "stdout",
     "output_type": "stream",
     "text": [
      "     Store ID   Store_Area  Items_Available\n",
      "0            1        1659             1961\n",
      "1            2        1461             1752\n",
      "2            3        1340             1609\n",
      "3            4        1451             1748\n",
      "4            5        1770             2111\n",
      "..         ...         ...              ...\n",
      "891        892        1582             1910\n",
      "892        893        1387             1663\n",
      "893        894        1200             1436\n",
      "894        895        1299             1560\n",
      "895        896        1174             1429\n",
      "\n",
      "[896 rows x 3 columns]\n"
     ]
    }
   ],
   "source": [
    "print(df[df.columns[0:3]])"
   ]
  },
  {
   "cell_type": "markdown",
   "id": "564cbe93-d177-4c95-8606-34727f2b92fa",
   "metadata": {},
   "source": [
    "# Add a new Column\n",
    "### insert()-  adda new col (set the location)\n",
    "### assign()- Assign a new col (at end of the df)"
   ]
  },
  {
   "cell_type": "code",
   "execution_count": 53,
   "id": "4275f5a8-3a9b-4c27-a5ad-70247794c28d",
   "metadata": {},
   "outputs": [
    {
     "data": {
      "text/html": [
       "<div>\n",
       "<style scoped>\n",
       "    .dataframe tbody tr th:only-of-type {\n",
       "        vertical-align: middle;\n",
       "    }\n",
       "\n",
       "    .dataframe tbody tr th {\n",
       "        vertical-align: top;\n",
       "    }\n",
       "\n",
       "    .dataframe thead th {\n",
       "        text-align: right;\n",
       "    }\n",
       "</style>\n",
       "<table border=\"1\" class=\"dataframe\">\n",
       "  <thead>\n",
       "    <tr style=\"text-align: right;\">\n",
       "      <th></th>\n",
       "      <th>student</th>\n",
       "      <th>rank</th>\n",
       "      <th>marks</th>\n",
       "    </tr>\n",
       "  </thead>\n",
       "  <tbody>\n",
       "    <tr>\n",
       "      <th>0</th>\n",
       "      <td>ashutosh</td>\n",
       "      <td>1</td>\n",
       "      <td>34</td>\n",
       "    </tr>\n",
       "    <tr>\n",
       "      <th>1</th>\n",
       "      <td>mamuni</td>\n",
       "      <td>2</td>\n",
       "      <td>78</td>\n",
       "    </tr>\n",
       "    <tr>\n",
       "      <th>2</th>\n",
       "      <td>nalini</td>\n",
       "      <td>3</td>\n",
       "      <td>90</td>\n",
       "    </tr>\n",
       "  </tbody>\n",
       "</table>\n",
       "</div>"
      ],
      "text/plain": [
       "    student  rank  marks\n",
       "0  ashutosh     1     34\n",
       "1    mamuni     2     78\n",
       "2    nalini     3     90"
      ]
     },
     "execution_count": 53,
     "metadata": {},
     "output_type": "execute_result"
    }
   ],
   "source": [
    "data = {\n",
    "    'student' : ['ashutosh','mamuni','nalini'],\n",
    "    'rank': [1,2,3],\n",
    "    'marks': [34,78,90]\n",
    "}\n",
    "df = pd.DataFrame(data)\n",
    "df"
   ]
  },
  {
   "cell_type": "code",
   "execution_count": 54,
   "id": "16de342d-a009-4fb3-b718-6cbd2543aba5",
   "metadata": {},
   "outputs": [],
   "source": [
    "df.insert(1,'rollNo',[100,101,102])"
   ]
  },
  {
   "cell_type": "code",
   "execution_count": 55,
   "id": "a2a7fcf8-1528-4e0a-87e3-66900961ad13",
   "metadata": {},
   "outputs": [
    {
     "data": {
      "text/html": [
       "<div>\n",
       "<style scoped>\n",
       "    .dataframe tbody tr th:only-of-type {\n",
       "        vertical-align: middle;\n",
       "    }\n",
       "\n",
       "    .dataframe tbody tr th {\n",
       "        vertical-align: top;\n",
       "    }\n",
       "\n",
       "    .dataframe thead th {\n",
       "        text-align: right;\n",
       "    }\n",
       "</style>\n",
       "<table border=\"1\" class=\"dataframe\">\n",
       "  <thead>\n",
       "    <tr style=\"text-align: right;\">\n",
       "      <th></th>\n",
       "      <th>student</th>\n",
       "      <th>rollNo</th>\n",
       "      <th>rank</th>\n",
       "      <th>marks</th>\n",
       "    </tr>\n",
       "  </thead>\n",
       "  <tbody>\n",
       "    <tr>\n",
       "      <th>0</th>\n",
       "      <td>ashutosh</td>\n",
       "      <td>100</td>\n",
       "      <td>1</td>\n",
       "      <td>34</td>\n",
       "    </tr>\n",
       "    <tr>\n",
       "      <th>1</th>\n",
       "      <td>mamuni</td>\n",
       "      <td>101</td>\n",
       "      <td>2</td>\n",
       "      <td>78</td>\n",
       "    </tr>\n",
       "    <tr>\n",
       "      <th>2</th>\n",
       "      <td>nalini</td>\n",
       "      <td>102</td>\n",
       "      <td>3</td>\n",
       "      <td>90</td>\n",
       "    </tr>\n",
       "  </tbody>\n",
       "</table>\n",
       "</div>"
      ],
      "text/plain": [
       "    student  rollNo  rank  marks\n",
       "0  ashutosh     100     1     34\n",
       "1    mamuni     101     2     78\n",
       "2    nalini     102     3     90"
      ]
     },
     "execution_count": 55,
     "metadata": {},
     "output_type": "execute_result"
    }
   ],
   "source": [
    "df"
   ]
  },
  {
   "cell_type": "code",
   "execution_count": 58,
   "id": "9cf714ec-494b-4dfc-8ad1-5efcf20dbc43",
   "metadata": {},
   "outputs": [
    {
     "data": {
      "text/html": [
       "<div>\n",
       "<style scoped>\n",
       "    .dataframe tbody tr th:only-of-type {\n",
       "        vertical-align: middle;\n",
       "    }\n",
       "\n",
       "    .dataframe tbody tr th {\n",
       "        vertical-align: top;\n",
       "    }\n",
       "\n",
       "    .dataframe thead th {\n",
       "        text-align: right;\n",
       "    }\n",
       "</style>\n",
       "<table border=\"1\" class=\"dataframe\">\n",
       "  <thead>\n",
       "    <tr style=\"text-align: right;\">\n",
       "      <th></th>\n",
       "      <th>student</th>\n",
       "      <th>rollNo</th>\n",
       "      <th>rank</th>\n",
       "      <th>marks</th>\n",
       "      <th>nick_name</th>\n",
       "    </tr>\n",
       "  </thead>\n",
       "  <tbody>\n",
       "    <tr>\n",
       "      <th>0</th>\n",
       "      <td>ashutosh</td>\n",
       "      <td>100</td>\n",
       "      <td>1</td>\n",
       "      <td>34</td>\n",
       "      <td>as</td>\n",
       "    </tr>\n",
       "    <tr>\n",
       "      <th>1</th>\n",
       "      <td>mamuni</td>\n",
       "      <td>101</td>\n",
       "      <td>2</td>\n",
       "      <td>78</td>\n",
       "      <td>ma</td>\n",
       "    </tr>\n",
       "    <tr>\n",
       "      <th>2</th>\n",
       "      <td>nalini</td>\n",
       "      <td>102</td>\n",
       "      <td>3</td>\n",
       "      <td>90</td>\n",
       "      <td>na</td>\n",
       "    </tr>\n",
       "  </tbody>\n",
       "</table>\n",
       "</div>"
      ],
      "text/plain": [
       "    student  rollNo  rank  marks nick_name\n",
       "0  ashutosh     100     1     34        as\n",
       "1    mamuni     101     2     78        ma\n",
       "2    nalini     102     3     90        na"
      ]
     },
     "execution_count": 58,
     "metadata": {},
     "output_type": "execute_result"
    }
   ],
   "source": [
    "df.assign(nick_name=['as','ma','na'])"
   ]
  },
  {
   "cell_type": "code",
   "execution_count": 59,
   "id": "e76c3098-a403-46fe-9899-4aa9bdba261b",
   "metadata": {},
   "outputs": [
    {
     "data": {
      "text/html": [
       "<div>\n",
       "<style scoped>\n",
       "    .dataframe tbody tr th:only-of-type {\n",
       "        vertical-align: middle;\n",
       "    }\n",
       "\n",
       "    .dataframe tbody tr th {\n",
       "        vertical-align: top;\n",
       "    }\n",
       "\n",
       "    .dataframe thead th {\n",
       "        text-align: right;\n",
       "    }\n",
       "</style>\n",
       "<table border=\"1\" class=\"dataframe\">\n",
       "  <thead>\n",
       "    <tr style=\"text-align: right;\">\n",
       "      <th></th>\n",
       "      <th>student</th>\n",
       "      <th>rollNo</th>\n",
       "      <th>rank</th>\n",
       "      <th>marks</th>\n",
       "    </tr>\n",
       "  </thead>\n",
       "  <tbody>\n",
       "    <tr>\n",
       "      <th>0</th>\n",
       "      <td>ashutosh</td>\n",
       "      <td>100</td>\n",
       "      <td>1</td>\n",
       "      <td>34</td>\n",
       "    </tr>\n",
       "    <tr>\n",
       "      <th>1</th>\n",
       "      <td>mamuni</td>\n",
       "      <td>101</td>\n",
       "      <td>2</td>\n",
       "      <td>78</td>\n",
       "    </tr>\n",
       "    <tr>\n",
       "      <th>2</th>\n",
       "      <td>nalini</td>\n",
       "      <td>102</td>\n",
       "      <td>3</td>\n",
       "      <td>90</td>\n",
       "    </tr>\n",
       "  </tbody>\n",
       "</table>\n",
       "</div>"
      ],
      "text/plain": [
       "    student  rollNo  rank  marks\n",
       "0  ashutosh     100     1     34\n",
       "1    mamuni     101     2     78\n",
       "2    nalini     102     3     90"
      ]
     },
     "execution_count": 59,
     "metadata": {},
     "output_type": "execute_result"
    }
   ],
   "source": [
    "df"
   ]
  },
  {
   "cell_type": "markdown",
   "id": "eed9ba0d-fe60-4fac-8ca9-edb78bf60332",
   "metadata": {},
   "source": [
    "# DELETE rows/Columns\n",
    "### drop()"
   ]
  },
  {
   "cell_type": "code",
   "execution_count": 68,
   "id": "a00b0618-7937-4229-874c-fd8c18b91d0d",
   "metadata": {},
   "outputs": [
    {
     "data": {
      "text/html": [
       "<div>\n",
       "<style scoped>\n",
       "    .dataframe tbody tr th:only-of-type {\n",
       "        vertical-align: middle;\n",
       "    }\n",
       "\n",
       "    .dataframe tbody tr th {\n",
       "        vertical-align: top;\n",
       "    }\n",
       "\n",
       "    .dataframe thead th {\n",
       "        text-align: right;\n",
       "    }\n",
       "</style>\n",
       "<table border=\"1\" class=\"dataframe\">\n",
       "  <thead>\n",
       "    <tr style=\"text-align: right;\">\n",
       "      <th></th>\n",
       "      <th>student</th>\n",
       "      <th>rank</th>\n",
       "      <th>marks</th>\n",
       "    </tr>\n",
       "  </thead>\n",
       "  <tbody>\n",
       "    <tr>\n",
       "      <th>0</th>\n",
       "      <td>ashutosh</td>\n",
       "      <td>1</td>\n",
       "      <td>34</td>\n",
       "    </tr>\n",
       "    <tr>\n",
       "      <th>1</th>\n",
       "      <td>mamuni</td>\n",
       "      <td>2</td>\n",
       "      <td>78</td>\n",
       "    </tr>\n",
       "    <tr>\n",
       "      <th>2</th>\n",
       "      <td>nalini</td>\n",
       "      <td>3</td>\n",
       "      <td>90</td>\n",
       "    </tr>\n",
       "  </tbody>\n",
       "</table>\n",
       "</div>"
      ],
      "text/plain": [
       "    student  rank  marks\n",
       "0  ashutosh     1     34\n",
       "1    mamuni     2     78\n",
       "2    nalini     3     90"
      ]
     },
     "execution_count": 68,
     "metadata": {},
     "output_type": "execute_result"
    }
   ],
   "source": [
    "data = {\n",
    "    'student' : ['ashutosh','mamuni','nalini'],\n",
    "    'rank': [1,2,3],\n",
    "    'marks': [34,78,90]\n",
    "}\n",
    "df = pd.DataFrame(data)\n",
    "df"
   ]
  },
  {
   "cell_type": "code",
   "execution_count": 69,
   "id": "ff150e1d-f854-4092-8c3e-c76dfd50dcdf",
   "metadata": {},
   "outputs": [
    {
     "data": {
      "text/html": [
       "<div>\n",
       "<style scoped>\n",
       "    .dataframe tbody tr th:only-of-type {\n",
       "        vertical-align: middle;\n",
       "    }\n",
       "\n",
       "    .dataframe tbody tr th {\n",
       "        vertical-align: top;\n",
       "    }\n",
       "\n",
       "    .dataframe thead th {\n",
       "        text-align: right;\n",
       "    }\n",
       "</style>\n",
       "<table border=\"1\" class=\"dataframe\">\n",
       "  <thead>\n",
       "    <tr style=\"text-align: right;\">\n",
       "      <th></th>\n",
       "      <th>student</th>\n",
       "      <th>rank</th>\n",
       "    </tr>\n",
       "  </thead>\n",
       "  <tbody>\n",
       "    <tr>\n",
       "      <th>0</th>\n",
       "      <td>ashutosh</td>\n",
       "      <td>1</td>\n",
       "    </tr>\n",
       "    <tr>\n",
       "      <th>1</th>\n",
       "      <td>mamuni</td>\n",
       "      <td>2</td>\n",
       "    </tr>\n",
       "    <tr>\n",
       "      <th>2</th>\n",
       "      <td>nalini</td>\n",
       "      <td>3</td>\n",
       "    </tr>\n",
       "  </tbody>\n",
       "</table>\n",
       "</div>"
      ],
      "text/plain": [
       "    student  rank\n",
       "0  ashutosh     1\n",
       "1    mamuni     2\n",
       "2    nalini     3"
      ]
     },
     "execution_count": 69,
     "metadata": {},
     "output_type": "execute_result"
    }
   ],
   "source": [
    "df1= df.drop('marks', axis='columns')\n",
    "#or\n",
    "df1= df.drop('marks', axis=1)\n",
    "df1"
   ]
  },
  {
   "cell_type": "code",
   "execution_count": 70,
   "id": "f0f5fb06-7b66-4e5b-ae89-c39259e67ed6",
   "metadata": {},
   "outputs": [
    {
     "data": {
      "text/html": [
       "<div>\n",
       "<style scoped>\n",
       "    .dataframe tbody tr th:only-of-type {\n",
       "        vertical-align: middle;\n",
       "    }\n",
       "\n",
       "    .dataframe tbody tr th {\n",
       "        vertical-align: top;\n",
       "    }\n",
       "\n",
       "    .dataframe thead th {\n",
       "        text-align: right;\n",
       "    }\n",
       "</style>\n",
       "<table border=\"1\" class=\"dataframe\">\n",
       "  <thead>\n",
       "    <tr style=\"text-align: right;\">\n",
       "      <th></th>\n",
       "      <th>student</th>\n",
       "      <th>rank</th>\n",
       "      <th>marks</th>\n",
       "    </tr>\n",
       "  </thead>\n",
       "  <tbody>\n",
       "    <tr>\n",
       "      <th>0</th>\n",
       "      <td>ashutosh</td>\n",
       "      <td>1</td>\n",
       "      <td>34</td>\n",
       "    </tr>\n",
       "    <tr>\n",
       "      <th>1</th>\n",
       "      <td>mamuni</td>\n",
       "      <td>2</td>\n",
       "      <td>78</td>\n",
       "    </tr>\n",
       "  </tbody>\n",
       "</table>\n",
       "</div>"
      ],
      "text/plain": [
       "    student  rank  marks\n",
       "0  ashutosh     1     34\n",
       "1    mamuni     2     78"
      ]
     },
     "execution_count": 70,
     "metadata": {},
     "output_type": "execute_result"
    }
   ],
   "source": [
    "df2 = df.drop(2,axis='index')\n",
    "#or\n",
    "df2 = df.drop(2,axis=0)\n",
    "df2"
   ]
  },
  {
   "cell_type": "markdown",
   "id": "9cf638a5-258e-4e5d-ad27-a8e9fabe3220",
   "metadata": {},
   "source": [
    "# Iterate Over Rows and Columns\n",
    "## Rows:- \n",
    "### 1. iterrows()\n",
    "###        2. itertuples()\n",
    "## columns:-\n",
    "### 1. items()"
   ]
  },
  {
   "cell_type": "code",
   "execution_count": 71,
   "id": "b43f30ba-fd8e-4859-b734-f187b09d2e5d",
   "metadata": {},
   "outputs": [
    {
     "data": {
      "text/html": [
       "<div>\n",
       "<style scoped>\n",
       "    .dataframe tbody tr th:only-of-type {\n",
       "        vertical-align: middle;\n",
       "    }\n",
       "\n",
       "    .dataframe tbody tr th {\n",
       "        vertical-align: top;\n",
       "    }\n",
       "\n",
       "    .dataframe thead th {\n",
       "        text-align: right;\n",
       "    }\n",
       "</style>\n",
       "<table border=\"1\" class=\"dataframe\">\n",
       "  <thead>\n",
       "    <tr style=\"text-align: right;\">\n",
       "      <th></th>\n",
       "      <th>student</th>\n",
       "      <th>rank</th>\n",
       "      <th>marks</th>\n",
       "    </tr>\n",
       "  </thead>\n",
       "  <tbody>\n",
       "    <tr>\n",
       "      <th>0</th>\n",
       "      <td>ashutosh</td>\n",
       "      <td>1</td>\n",
       "      <td>34</td>\n",
       "    </tr>\n",
       "    <tr>\n",
       "      <th>1</th>\n",
       "      <td>mamuni</td>\n",
       "      <td>2</td>\n",
       "      <td>78</td>\n",
       "    </tr>\n",
       "    <tr>\n",
       "      <th>2</th>\n",
       "      <td>nalini</td>\n",
       "      <td>3</td>\n",
       "      <td>90</td>\n",
       "    </tr>\n",
       "  </tbody>\n",
       "</table>\n",
       "</div>"
      ],
      "text/plain": [
       "    student  rank  marks\n",
       "0  ashutosh     1     34\n",
       "1    mamuni     2     78\n",
       "2    nalini     3     90"
      ]
     },
     "execution_count": 71,
     "metadata": {},
     "output_type": "execute_result"
    }
   ],
   "source": [
    "data = {\n",
    "    'student' : ['ashutosh','mamuni','nalini'],\n",
    "    'rank': [1,2,3],\n",
    "    'marks': [34,78,90]\n",
    "}\n",
    "df = pd.DataFrame(data)\n",
    "df"
   ]
  },
  {
   "cell_type": "code",
   "execution_count": 74,
   "id": "03e85662-97e2-4bb9-aaba-d95cee17847e",
   "metadata": {},
   "outputs": [
    {
     "name": "stdout",
     "output_type": "stream",
     "text": [
      "(0, student    ashutosh\n",
      "rank              1\n",
      "marks            34\n",
      "Name: 0, dtype: object)\n",
      "(1, student    mamuni\n",
      "rank            2\n",
      "marks          78\n",
      "Name: 1, dtype: object)\n",
      "(2, student    nalini\n",
      "rank            3\n",
      "marks          90\n",
      "Name: 2, dtype: object)\n"
     ]
    }
   ],
   "source": [
    "for row in df.iterrows():\n",
    "    print(row)"
   ]
  },
  {
   "cell_type": "code",
   "execution_count": 84,
   "id": "1b96ac1e-2f7a-4c4e-aa16-15a2fdb463b3",
   "metadata": {},
   "outputs": [
    {
     "name": "stdout",
     "output_type": "stream",
     "text": [
      "0\n",
      "student    ashutosh\n",
      "rank              1\n",
      "marks            34\n",
      "Name: 0, dtype: object\n",
      "\n",
      "1\n",
      "student    mamuni\n",
      "rank            2\n",
      "marks          78\n",
      "Name: 1, dtype: object\n",
      "\n",
      "2\n",
      "student    nalini\n",
      "rank            3\n",
      "marks          90\n",
      "Name: 2, dtype: object\n",
      "\n"
     ]
    }
   ],
   "source": [
    "for index,row in df.iterrows():\n",
    "    print(index)\n",
    "    print(row)\n",
    "    print()"
   ]
  },
  {
   "cell_type": "code",
   "execution_count": 83,
   "id": "4ade729e-b2e1-41de-8831-fd34a36248ac",
   "metadata": {},
   "outputs": [
    {
     "name": "stdout",
     "output_type": "stream",
     "text": [
      "Pandas(Index=0, student='ashutosh', rank=1, marks=34)\n",
      "Pandas(Index=1, student='mamuni', rank=2, marks=78)\n",
      "Pandas(Index=2, student='nalini', rank=3, marks=90)\n"
     ]
    }
   ],
   "source": [
    "for row in df.itertuples():\n",
    "    print(row)"
   ]
  },
  {
   "cell_type": "code",
   "execution_count": 80,
   "id": "6c33352b-a086-4d45-a715-c45aca816743",
   "metadata": {},
   "outputs": [
    {
     "name": "stdout",
     "output_type": "stream",
     "text": [
      "('student', 0    ashutosh\n",
      "1      mamuni\n",
      "2      nalini\n",
      "Name: student, dtype: object)\n",
      "('rank', 0    1\n",
      "1    2\n",
      "2    3\n",
      "Name: rank, dtype: int64)\n",
      "('marks', 0    34\n",
      "1    78\n",
      "2    90\n",
      "Name: marks, dtype: int64)\n"
     ]
    }
   ],
   "source": [
    "for col in df.items():\n",
    "    print(col)"
   ]
  },
  {
   "cell_type": "code",
   "execution_count": 87,
   "id": "b263ae6d-d727-4731-9ead-5f57b2e3d03f",
   "metadata": {},
   "outputs": [
    {
     "name": "stdout",
     "output_type": "stream",
     "text": [
      "student\n",
      "0    ashutosh\n",
      "1      mamuni\n",
      "2      nalini\n",
      "Name: student, dtype: object\n",
      "rank\n",
      "0    1\n",
      "1    2\n",
      "2    3\n",
      "Name: rank, dtype: int64\n",
      "marks\n",
      "0    34\n",
      "1    78\n",
      "2    90\n",
      "Name: marks, dtype: int64\n"
     ]
    }
   ],
   "source": [
    "for col, row in df.items():\n",
    "    print(col)\n",
    "    print(row)"
   ]
  },
  {
   "cell_type": "markdown",
   "id": "d857acf2-a6d7-452b-bcb3-3c2637871c43",
   "metadata": {},
   "source": [
    "# Sort the Dataframe\n",
    "### sort_values()- the default is ascending"
   ]
  },
  {
   "cell_type": "code",
   "execution_count": 90,
   "id": "a1a4603a-8c36-47c2-83b0-570945166f1b",
   "metadata": {},
   "outputs": [
    {
     "name": "stdout",
     "output_type": "stream",
     "text": [
      "    student  rank  marks\n",
      "0  ashutosh     1     34\n",
      "1    mamuni     2     78\n",
      "2    nalini     3     90\n"
     ]
    }
   ],
   "source": [
    "print(df.sort_values(by=['marks']))"
   ]
  },
  {
   "cell_type": "code",
   "execution_count": 91,
   "id": "f5a33140-7587-41f4-b1e7-41db59287133",
   "metadata": {},
   "outputs": [
    {
     "name": "stdout",
     "output_type": "stream",
     "text": [
      "    student  rank  marks\n",
      "2    nalini     3     90\n",
      "1    mamuni     2     78\n",
      "0  ashutosh     1     34\n"
     ]
    }
   ],
   "source": [
    "print(df.sort_values(by=['marks'],ascending=False))"
   ]
  },
  {
   "cell_type": "markdown",
   "id": "0f6aa285-44aa-4a0b-b8e0-43cbd078414a",
   "metadata": {},
   "source": [
    "# Handling Diplicates (find and remove)\n",
    "### duplicated() -  Find duplicates\n",
    "### drop_duplicates() - Remove Duplicates"
   ]
  },
  {
   "cell_type": "code",
   "execution_count": 2,
   "id": "f8bcfb73-c11e-4788-9e6c-2b04ce4cd935",
   "metadata": {},
   "outputs": [
    {
     "name": "stdout",
     "output_type": "stream",
     "text": [
      "   A  B\n",
      "0  1  5\n",
      "1  2  6\n",
      "2  2  6\n",
      "3  4  8\n"
     ]
    }
   ],
   "source": [
    "import pandas as pd\n",
    "\n",
    "df = pd.DataFrame({\n",
    "    'A': [1, 2, 2, 4],\n",
    "    'B': [5, 6, 6, 8]\n",
    "})\n",
    "\n",
    "# Find duplicate rows\n",
    "print(df)\n"
   ]
  },
  {
   "cell_type": "code",
   "execution_count": 4,
   "id": "d36d247e-26dc-4de9-bef2-5a00968cdfaf",
   "metadata": {},
   "outputs": [
    {
     "name": "stdout",
     "output_type": "stream",
     "text": [
      "0    False\n",
      "1    False\n",
      "2     True\n",
      "3    False\n",
      "dtype: bool\n"
     ]
    }
   ],
   "source": [
    "print(df.duplicated())"
   ]
  },
  {
   "cell_type": "code",
   "execution_count": 5,
   "id": "c48e604d-e995-4042-a8c0-f4db8a6e6c70",
   "metadata": {},
   "outputs": [
    {
     "name": "stdout",
     "output_type": "stream",
     "text": [
      "   A  B\n",
      "2  2  6\n"
     ]
    }
   ],
   "source": [
    "duplicates = df[df.duplicated()]\n",
    "print(duplicates)\n"
   ]
  },
  {
   "cell_type": "code",
   "execution_count": 6,
   "id": "19813de0-b3a2-4672-b5af-ef064624267c",
   "metadata": {},
   "outputs": [
    {
     "name": "stdout",
     "output_type": "stream",
     "text": [
      "0    False\n",
      "1    False\n",
      "2     True\n",
      "3    False\n",
      "dtype: bool\n",
      "   A  B\n",
      "0  1  5\n",
      "1  2  6\n",
      "3  4  8\n"
     ]
    }
   ],
   "source": [
    "# Check duplicates in column 'A'\n",
    "print(df.duplicated(subset=['A']))\n",
    "\n",
    "# Remove duplicates based on column 'A'\n",
    "df_cleaned = df.drop_duplicates(subset=['A'])\n",
    "print(df_cleaned)"
   ]
  },
  {
   "cell_type": "code",
   "execution_count": 7,
   "id": "8979c0f0-c5a0-4a1a-bf45-f3ae0a0176b8",
   "metadata": {},
   "outputs": [
    {
     "name": "stdout",
     "output_type": "stream",
     "text": [
      "1\n"
     ]
    }
   ],
   "source": [
    "#Counting Duplicates\n",
    "#To count the number of duplicate rows:\n",
    "\n",
    "print(df.duplicated().sum())\n"
   ]
  },
  {
   "cell_type": "code",
   "execution_count": null,
   "id": "a399347a-583d-41d2-91ee-da75916197ff",
   "metadata": {},
   "outputs": [],
   "source": [
    "#Example 1: Find and Drop Duplicates Based on Two Columns\n",
    "df_cleaned = df.drop_duplicates(subset=['A', 'B'])\n",
    "\n",
    "#Example 2: Keep Only the Last Duplicate Occurrence\n",
    "df_cleaned = df.drop_duplicates(keep='last')\n",
    "\n",
    "#Example 3: Remove All Duplicates (No Retention)\n",
    "df_cleaned = df.drop_duplicates(keep=False)"
   ]
  },
  {
   "cell_type": "markdown",
   "id": "09189d7a-075f-4a45-9f15-d79111c49887",
   "metadata": {},
   "source": [
    "# Clean data- Built in function\n",
    "## isnull() : Find the Null Values and replace then with True.\n",
    "## notnull(): Find the NOT NULL values and replace then with True.\n",
    "## df.dropna(): drop rows with NULL values.\n",
    "## df.fillna(X): Replace NULL values with a specific value."
   ]
  },
  {
   "cell_type": "code",
   "execution_count": 10,
   "id": "bd7df70b-addb-4354-8ef0-2d0775ddff4f",
   "metadata": {},
   "outputs": [
    {
     "name": "stdout",
     "output_type": "stream",
     "text": [
      "     A    B\n",
      "0  1.0  4.0\n",
      "1  NaN  5.0\n",
      "2  3.0  NaN\n",
      "       A      B\n",
      "0  False  False\n",
      "1   True  False\n",
      "2  False   True\n"
     ]
    }
   ],
   "source": [
    "import pandas as pd\n",
    "import numpy as np\n",
    "\n",
    "# Sample DataFrame\n",
    "df = pd.DataFrame({\n",
    "    'A': [1, np.nan, 3],\n",
    "    'B': [4, 5, np.nan]\n",
    "})\n",
    "\n",
    "# Find NULL values\n",
    "null_values = df.isnull()\n",
    "print(df)\n",
    "print(null_values)\n"
   ]
  },
  {
   "cell_type": "code",
   "execution_count": 11,
   "id": "15bc93af-c9fc-431c-a58b-63d8c2c205b0",
   "metadata": {},
   "outputs": [
    {
     "name": "stdout",
     "output_type": "stream",
     "text": [
      "       A      B\n",
      "0  False  False\n",
      "1   True  False\n",
      "2  False   True\n"
     ]
    }
   ],
   "source": [
    "print(df.isnull())"
   ]
  },
  {
   "cell_type": "code",
   "execution_count": 12,
   "id": "3ce3f416-a083-4d55-aca1-e7879f7f1a55",
   "metadata": {},
   "outputs": [
    {
     "name": "stdout",
     "output_type": "stream",
     "text": [
      "       A      B\n",
      "0   True   True\n",
      "1  False   True\n",
      "2   True  False\n"
     ]
    }
   ],
   "source": [
    "# Find NOT NULL values\n",
    "not_null_values = df.notnull()\n",
    "print(not_null_values)"
   ]
  },
  {
   "cell_type": "code",
   "execution_count": 14,
   "id": "b77fd665-d333-4b0d-9347-71338b381658",
   "metadata": {},
   "outputs": [
    {
     "data": {
      "text/html": [
       "<div>\n",
       "<style scoped>\n",
       "    .dataframe tbody tr th:only-of-type {\n",
       "        vertical-align: middle;\n",
       "    }\n",
       "\n",
       "    .dataframe tbody tr th {\n",
       "        vertical-align: top;\n",
       "    }\n",
       "\n",
       "    .dataframe thead th {\n",
       "        text-align: right;\n",
       "    }\n",
       "</style>\n",
       "<table border=\"1\" class=\"dataframe\">\n",
       "  <thead>\n",
       "    <tr style=\"text-align: right;\">\n",
       "      <th></th>\n",
       "      <th>A</th>\n",
       "      <th>B</th>\n",
       "    </tr>\n",
       "  </thead>\n",
       "  <tbody>\n",
       "    <tr>\n",
       "      <th>0</th>\n",
       "      <td>1.0</td>\n",
       "      <td>4.0</td>\n",
       "    </tr>\n",
       "  </tbody>\n",
       "</table>\n",
       "</div>"
      ],
      "text/plain": [
       "     A    B\n",
       "0  1.0  4.0"
      ]
     },
     "execution_count": 14,
     "metadata": {},
     "output_type": "execute_result"
    }
   ],
   "source": [
    "#Drop Rows with NULL values\n",
    "df1 = df.dropna(axis=0, how='any', inplace=False)\n",
    "df1"
   ]
  },
  {
   "cell_type": "code",
   "execution_count": 15,
   "id": "5a0b4bf1-75b5-4a7e-a6f3-23f5e8066b90",
   "metadata": {},
   "outputs": [
    {
     "data": {
      "text/html": [
       "<div>\n",
       "<style scoped>\n",
       "    .dataframe tbody tr th:only-of-type {\n",
       "        vertical-align: middle;\n",
       "    }\n",
       "\n",
       "    .dataframe tbody tr th {\n",
       "        vertical-align: top;\n",
       "    }\n",
       "\n",
       "    .dataframe thead th {\n",
       "        text-align: right;\n",
       "    }\n",
       "</style>\n",
       "<table border=\"1\" class=\"dataframe\">\n",
       "  <thead>\n",
       "    <tr style=\"text-align: right;\">\n",
       "      <th></th>\n",
       "    </tr>\n",
       "  </thead>\n",
       "  <tbody>\n",
       "    <tr>\n",
       "      <th>0</th>\n",
       "    </tr>\n",
       "    <tr>\n",
       "      <th>1</th>\n",
       "    </tr>\n",
       "    <tr>\n",
       "      <th>2</th>\n",
       "    </tr>\n",
       "  </tbody>\n",
       "</table>\n",
       "</div>"
      ],
      "text/plain": [
       "Empty DataFrame\n",
       "Columns: []\n",
       "Index: [0, 1, 2]"
      ]
     },
     "execution_count": 15,
     "metadata": {},
     "output_type": "execute_result"
    }
   ],
   "source": [
    "#Drop Columns with NULL values\n",
    "df2 = df.dropna(axis=1, how='any', inplace=False)\n",
    "df2"
   ]
  },
  {
   "cell_type": "code",
   "execution_count": 16,
   "id": "583bf11a-589d-4176-ba75-7f711da4ea0d",
   "metadata": {},
   "outputs": [
    {
     "name": "stdout",
     "output_type": "stream",
     "text": [
      "     A    B\n",
      "0  1.0  4.0\n"
     ]
    }
   ],
   "source": [
    "# Drop rows with NULL values\n",
    "cleaned_df = df.dropna()\n",
    "print(cleaned_df)"
   ]
  },
  {
   "cell_type": "code",
   "execution_count": 18,
   "id": "dece8bd7-b35c-4a2d-8e3d-4bd546594d4a",
   "metadata": {},
   "outputs": [
    {
     "data": {
      "text/html": [
       "<div>\n",
       "<style scoped>\n",
       "    .dataframe tbody tr th:only-of-type {\n",
       "        vertical-align: middle;\n",
       "    }\n",
       "\n",
       "    .dataframe tbody tr th {\n",
       "        vertical-align: top;\n",
       "    }\n",
       "\n",
       "    .dataframe thead th {\n",
       "        text-align: right;\n",
       "    }\n",
       "</style>\n",
       "<table border=\"1\" class=\"dataframe\">\n",
       "  <thead>\n",
       "    <tr style=\"text-align: right;\">\n",
       "      <th></th>\n",
       "      <th>A</th>\n",
       "      <th>B</th>\n",
       "    </tr>\n",
       "  </thead>\n",
       "  <tbody>\n",
       "    <tr>\n",
       "      <th>0</th>\n",
       "      <td>1.0</td>\n",
       "      <td>4.0</td>\n",
       "    </tr>\n",
       "    <tr>\n",
       "      <th>1</th>\n",
       "      <td>3.0</td>\n",
       "      <td>5.0</td>\n",
       "    </tr>\n",
       "    <tr>\n",
       "      <th>2</th>\n",
       "      <td>3.0</td>\n",
       "      <td>3.0</td>\n",
       "    </tr>\n",
       "  </tbody>\n",
       "</table>\n",
       "</div>"
      ],
      "text/plain": [
       "     A    B\n",
       "0  1.0  4.0\n",
       "1  3.0  5.0\n",
       "2  3.0  3.0"
      ]
     },
     "execution_count": 18,
     "metadata": {},
     "output_type": "execute_result"
    }
   ],
   "source": [
    "df3 = df.fillna(value=3, inplace=False)\n",
    "df3"
   ]
  },
  {
   "cell_type": "code",
   "execution_count": 19,
   "id": "25681094-2c35-49c3-a735-0daf1951596e",
   "metadata": {},
   "outputs": [
    {
     "name": "stdout",
     "output_type": "stream",
     "text": [
      "     A    B\n",
      "0  1.0  4.0\n",
      "1  0.0  5.0\n",
      "2  3.0  0.0\n"
     ]
    }
   ],
   "source": [
    "# Replace NULL values with 0\n",
    "filled_df = df.fillna(0)\n",
    "print(filled_df)\n"
   ]
  },
  {
   "cell_type": "markdown",
   "id": "b3deb060-a603-4eb8-97f6-52eb9421c361",
   "metadata": {},
   "source": [
    "# String Operations on Text DATA\n",
    "## lower(): -perform lowercase on text data\n",
    "## upper():- Perform uppercase on text data\n",
    "## title():- Convert text data to camel case\n",
    "## len():- to get the length of each element\n",
    "## count():- count the non-empty cells for each column or row\n",
    "## contain():- search for a value in a column"
   ]
  },
  {
   "cell_type": "code",
   "execution_count": 27,
   "id": "adec3f4f-9ae5-45f6-a5e4-86d0b72b9693",
   "metadata": {},
   "outputs": [
    {
     "name": "stdout",
     "output_type": "stream",
     "text": [
      "     Text Text_lower\n",
      "0   Hello      hello\n",
      "1   WORLD      world\n",
      "2  Python     python\n"
     ]
    }
   ],
   "source": [
    "import pandas as pd\n",
    "\n",
    "# Sample DataFrame\n",
    "df = pd.DataFrame({'Text': ['Hello', 'WORLD', 'Python']})\n",
    "\n",
    "# Convert text to lowercase\n",
    "df['Text_lower'] = df['Text'].str.lower()\n",
    "print(df)"
   ]
  },
  {
   "cell_type": "code",
   "execution_count": 28,
   "id": "4542b043-039e-4397-8d12-72b1f3553857",
   "metadata": {},
   "outputs": [
    {
     "name": "stdout",
     "output_type": "stream",
     "text": [
      "     Text Text_lower Text_upper\n",
      "0   Hello      hello      HELLO\n",
      "1   WORLD      world      WORLD\n",
      "2  Python     python     PYTHON\n"
     ]
    }
   ],
   "source": [
    "# Convert text to uppercase\n",
    "df['Text_upper'] = df['Text'].str.upper()\n",
    "print(df)"
   ]
  },
  {
   "cell_type": "code",
   "execution_count": 29,
   "id": "e08d4b97-b095-446f-be9b-9af7549bafe9",
   "metadata": {},
   "outputs": [
    {
     "name": "stdout",
     "output_type": "stream",
     "text": [
      "     Text Text_lower Text_upper Text_title\n",
      "0   Hello      hello      HELLO      Hello\n",
      "1   WORLD      world      WORLD      World\n",
      "2  Python     python     PYTHON     Python\n"
     ]
    }
   ],
   "source": [
    "# Convert text to title case\n",
    "df['Text_title'] = df['Text'].str.title()\n",
    "print(df)"
   ]
  },
  {
   "cell_type": "code",
   "execution_count": 30,
   "id": "45d5edb2-6dcb-4468-9ef5-0c3a8cd2d09e",
   "metadata": {},
   "outputs": [
    {
     "name": "stdout",
     "output_type": "stream",
     "text": [
      "     Text Text_lower Text_upper Text_title  Text_length\n",
      "0   Hello      hello      HELLO      Hello            5\n",
      "1   WORLD      world      WORLD      World            5\n",
      "2  Python     python     PYTHON     Python            6\n"
     ]
    }
   ],
   "source": [
    "# Get the length of each string\n",
    "df['Text_length'] = df['Text'].str.len()\n",
    "print(df)"
   ]
  },
  {
   "cell_type": "code",
   "execution_count": 35,
   "id": "804c01e8-e34b-41c2-8b4e-f12079ade94a",
   "metadata": {},
   "outputs": [
    {
     "name": "stdout",
     "output_type": "stream",
     "text": [
      "3\n",
      "Text           3\n",
      "Text_lower     3\n",
      "Text_upper     3\n",
      "Text_title     3\n",
      "Text_length    3\n",
      "dtype: int64\n"
     ]
    }
   ],
   "source": [
    "# Count non-empty cells in each column\n",
    "non_empty_counts = df.count()\n",
    "print(df['Text'].count())\n",
    "print(non_empty_counts)"
   ]
  },
  {
   "cell_type": "code",
   "execution_count": 32,
   "id": "de3ed3eb-1c36-4e2b-bd58-566763ebac8f",
   "metadata": {},
   "outputs": [
    {
     "name": "stdout",
     "output_type": "stream",
     "text": [
      "0    True\n",
      "1    True\n",
      "2    True\n",
      "Name: Text, dtype: bool\n"
     ]
    }
   ],
   "source": [
    "# Search for rows where 'Text' contains the letter 'o'\n",
    "contains_o = df['Text'].str.contains('o', case=False)\n",
    "print(contains_o)"
   ]
  },
  {
   "cell_type": "code",
   "execution_count": 33,
   "id": "42641706-4ca5-4440-847e-c2d31ea4c86e",
   "metadata": {},
   "outputs": [
    {
     "name": "stdout",
     "output_type": "stream",
     "text": [
      "     Text Text_lower Text_upper Text_title  Text_length\n",
      "0   Hello      hello      HELLO      Hello            5\n",
      "1   WORLD      world      WORLD      World            5\n",
      "2  Python     python     PYTHON     Python            6\n"
     ]
    }
   ],
   "source": [
    "filtered_df = df[contains_o]\n",
    "print(filtered_df)"
   ]
  },
  {
   "cell_type": "markdown",
   "id": "6b890f00-35be-407b-bd5e-dc27bfa9cc34",
   "metadata": {},
   "source": [
    "# Date Time Operation in Pandas"
   ]
  },
  {
   "cell_type": "code",
   "execution_count": 2,
   "id": "e5854879-3aef-49a4-840b-1abde9a12a6a",
   "metadata": {},
   "outputs": [
    {
     "name": "stdout",
     "output_type": "stream",
     "text": [
      "2024-12-01 09:47:26.395453\n"
     ]
    }
   ],
   "source": [
    "print(pd.Timestamp.now())"
   ]
  },
  {
   "cell_type": "code",
   "execution_count": 3,
   "id": "bec8bfce-03eb-4dbb-a2b9-c0697b6e16b7",
   "metadata": {},
   "outputs": [
    {
     "name": "stdout",
     "output_type": "stream",
     "text": [
      "6\n"
     ]
    }
   ],
   "source": [
    "T = pd.Timestamp.now()\n",
    "print(T.dayofweek)"
   ]
  },
  {
   "cell_type": "code",
   "execution_count": 4,
   "id": "75fe7b7a-681d-437e-92dc-bc2c1522d53d",
   "metadata": {},
   "outputs": [
    {
     "name": "stdout",
     "output_type": "stream",
     "text": [
      "336\n"
     ]
    }
   ],
   "source": [
    "print(T.dayofyear)"
   ]
  },
  {
   "cell_type": "code",
   "execution_count": 5,
   "id": "87913d0c-c3a8-43b0-b5ef-264deb99a2e8",
   "metadata": {},
   "outputs": [
    {
     "name": "stdout",
     "output_type": "stream",
     "text": [
      "31\n"
     ]
    }
   ],
   "source": [
    "print(T.daysinmonth)"
   ]
  },
  {
   "cell_type": "code",
   "execution_count": 6,
   "id": "c6209319-7079-42a6-968c-94c920b88b9b",
   "metadata": {},
   "outputs": [
    {
     "name": "stdout",
     "output_type": "stream",
     "text": [
      "True\n"
     ]
    }
   ],
   "source": [
    "print(T.is_leap_year)"
   ]
  },
  {
   "cell_type": "code",
   "execution_count": 7,
   "id": "ff64f319-6863-4442-a7ea-df25c87496b1",
   "metadata": {},
   "outputs": [
    {
     "name": "stdout",
     "output_type": "stream",
     "text": [
      "False\n"
     ]
    }
   ],
   "source": [
    "print(T.is_month_end)"
   ]
  },
  {
   "cell_type": "code",
   "execution_count": 8,
   "id": "df879dbd-00f0-485f-8934-cf291f70ea4b",
   "metadata": {},
   "outputs": [
    {
     "name": "stdout",
     "output_type": "stream",
     "text": [
      "True\n"
     ]
    }
   ],
   "source": [
    "print(T.is_month_start)"
   ]
  },
  {
   "cell_type": "code",
   "execution_count": 9,
   "id": "ddd7ede1-0c70-42b6-b3c4-7e3015521b0e",
   "metadata": {},
   "outputs": [
    {
     "name": "stdout",
     "output_type": "stream",
     "text": [
      "False\n"
     ]
    }
   ],
   "source": [
    "print(T.is_year_end)"
   ]
  },
  {
   "cell_type": "code",
   "execution_count": 10,
   "id": "422e9de9-26a0-4026-acba-cf82c7c6c465",
   "metadata": {},
   "outputs": [
    {
     "name": "stdout",
     "output_type": "stream",
     "text": [
      "False\n"
     ]
    }
   ],
   "source": [
    "print(T.is_year_start)"
   ]
  },
  {
   "cell_type": "code",
   "execution_count": 13,
   "id": "6c5341eb-fb2f-42b6-ac8b-9f28b5ac2f2a",
   "metadata": {},
   "outputs": [
    {
     "name": "stdout",
     "output_type": "stream",
     "text": [
      "2024-12-01\n"
     ]
    }
   ],
   "source": [
    "print(T.date())"
   ]
  },
  {
   "cell_type": "markdown",
   "id": "4d739a0a-e565-4996-99fb-72ce72084b1b",
   "metadata": {},
   "source": [
    "# Remove White space and characters\n",
    "### 1. strip() - strip whitespace or speciic chars from left and right\n",
    "### 2. lstrip() - strip whitespace or speciic chars from left\n",
    "### 3. rstrip() - strip whitespace or speciic chars from right"
   ]
  },
  {
   "cell_type": "code",
   "execution_count": 18,
   "id": "966e5420-f8b4-4486-b6d8-407d537f0ef6",
   "metadata": {},
   "outputs": [
    {
     "name": "stdout",
     "output_type": "stream",
     "text": [
      "          Name Cleaned_Name\n",
      "0     Alice           Alice\n",
      "1       Bob             Bob\n",
      "2      Charlie      Charlie\n",
      "0    11\n",
      "1     9\n",
      "2    10\n",
      "Name: Name, dtype: int64\n",
      "0    5\n",
      "1    3\n",
      "2    7\n",
      "Name: Cleaned_Name, dtype: int64\n"
     ]
    }
   ],
   "source": [
    "import pandas as pd\n",
    "\n",
    "data = {'Name': ['   Alice   ', '   Bob   ', '   Charlie']}\n",
    "df = pd.DataFrame(data)\n",
    "\n",
    "# Strip whitespace from both sides\n",
    "df['Cleaned_Name'] = df['Name'].str.strip()\n",
    "print(df)\n",
    "print(df['Name'].str.len())\n",
    "print(df['Cleaned_Name'].str.len())\n"
   ]
  },
  {
   "cell_type": "code",
   "execution_count": 19,
   "id": "36a425a9-edd8-45fb-b857-3cdc35965648",
   "metadata": {},
   "outputs": [
    {
     "name": "stdout",
     "output_type": "stream",
     "text": [
      "          Name Cleaned_Name\n",
      "0     Alice        Alice   \n",
      "1       Bob          Bob   \n",
      "2      Charlie      Charlie\n",
      "0    11\n",
      "1     9\n",
      "2    10\n",
      "Name: Name, dtype: int64\n",
      "0    8\n",
      "1    6\n",
      "2    7\n",
      "Name: Cleaned_Name, dtype: int64\n"
     ]
    }
   ],
   "source": [
    "data = {'Name': ['   Alice   ', '   Bob   ', '   Charlie']}\n",
    "df = pd.DataFrame(data)\n",
    "\n",
    "# Strip leading whitespace\n",
    "df['Cleaned_Name'] = df['Name'].str.lstrip()\n",
    "print(df)\n",
    "print(df['Name'].str.len())\n",
    "print(df['Cleaned_Name'].str.len())"
   ]
  },
  {
   "cell_type": "code",
   "execution_count": 22,
   "id": "a30a8027-f128-4b1f-9388-8011de76dbd3",
   "metadata": {},
   "outputs": [
    {
     "name": "stdout",
     "output_type": "stream",
     "text": [
      "         Name Cleaned_Name\n",
      "0    Alice           Alice\n",
      "1      Bob             Bob\n",
      "2   Charlie        Charlie\n",
      "0     9\n",
      "1     7\n",
      "2    10\n",
      "Name: Name, dtype: int64\n",
      "0    6\n",
      "1    4\n",
      "2    8\n",
      "Name: Cleaned_Name, dtype: int64\n"
     ]
    }
   ],
   "source": [
    "data = {'Name': [' Alice   ', ' Bob   ', ' Charlie  ']}\n",
    "df = pd.DataFrame(data)\n",
    "\n",
    "# Strip leading whitespace\n",
    "df['Cleaned_Name'] = df['Name'].str.rstrip()\n",
    "print(df)\n",
    "print(df['Name'].str.len())\n",
    "print(df['Cleaned_Name'].str.len())"
   ]
  },
  {
   "cell_type": "markdown",
   "id": "d6c145e8-1124-4c40-b607-1777d582c2e4",
   "metadata": {},
   "source": [
    "# Group the data in pandas\n",
    "### groupby()"
   ]
  },
  {
   "cell_type": "code",
   "execution_count": 26,
   "id": "1129b753-99a5-42c7-b05e-d5127cc8ac90",
   "metadata": {},
   "outputs": [
    {
     "name": "stdout",
     "output_type": "stream",
     "text": [
      "Category\n",
      "A    35\n",
      "B    75\n",
      "Name: Values, dtype: int64\n"
     ]
    }
   ],
   "source": [
    "# Group by a Single Column\n",
    "import pandas as pd\n",
    "\n",
    "data = {'Category': ['A', 'B', 'A', 'B', 'A', 'B'],\n",
    "        'Values': [10, 20, 15, 25, 10, 30]}\n",
    "df = pd.DataFrame(data)\n",
    "\n",
    "# Group by 'Category' and calculate the sum\n",
    "grouped = df.groupby('Category')['Values'].sum()\n",
    "print(grouped)"
   ]
  },
  {
   "cell_type": "code",
   "execution_count": 27,
   "id": "468f0d29-7f89-4e55-af09-ea281c77b6c7",
   "metadata": {},
   "outputs": [
    {
     "name": "stdout",
     "output_type": "stream",
     "text": [
      "                      Values\n",
      "Category SubCategory        \n",
      "A        X              10.0\n",
      "         Y              20.0\n",
      "B        X              30.0\n",
      "         Y              40.0\n",
      "C        X              50.0\n",
      "         Y              60.0\n"
     ]
    }
   ],
   "source": [
    "# Group by Multiple Columns\n",
    "data = {'Category': ['A', 'A', 'B', 'B', 'C', 'C'],\n",
    "        'SubCategory': ['X', 'Y', 'X', 'Y', 'X', 'Y'],\n",
    "        'Values': [10, 20, 30, 40, 50, 60]}\n",
    "df = pd.DataFrame(data)\n",
    "\n",
    "# Group by 'Category' and 'SubCategory', then calculate mean\n",
    "grouped = df.groupby(['Category', 'SubCategory']).mean()\n",
    "print(grouped)\n"
   ]
  },
  {
   "cell_type": "code",
   "execution_count": 28,
   "id": "eb3cad9b-8193-434e-9589-f83e8710df89",
   "metadata": {},
   "outputs": [
    {
     "name": "stdout",
     "output_type": "stream",
     "text": [
      "          sum  mean  count\n",
      "Category                  \n",
      "A          30  15.0      2\n",
      "B          70  35.0      2\n",
      "C         110  55.0      2\n"
     ]
    }
   ],
   "source": [
    "# Aggregate using multiple functions\n",
    "aggregated = df.groupby('Category')['Values'].agg(['sum', 'mean', 'count'])\n",
    "print(aggregated)"
   ]
  },
  {
   "cell_type": "code",
   "execution_count": 29,
   "id": "32079dbd-5e84-45f9-a084-c2b93f2c4107",
   "metadata": {},
   "outputs": [
    {
     "name": "stdout",
     "output_type": "stream",
     "text": [
      "  Category  Values\n",
      "0        A      30\n",
      "1        B      70\n",
      "2        C     110\n"
     ]
    }
   ],
   "source": [
    "grouped = df.groupby('Category', as_index=False)['Values'].sum()\n",
    "print(grouped)"
   ]
  },
  {
   "cell_type": "code",
   "execution_count": 35,
   "id": "ed2facab-5d82-430e-be47-94f095ae912f",
   "metadata": {},
   "outputs": [
    {
     "name": "stdout",
     "output_type": "stream",
     "text": [
      "A\n",
      "\n",
      "0    10\n",
      "1    20\n",
      "Name: Values, dtype: int64\n",
      "B\n",
      "\n",
      "2    30\n",
      "3    40\n",
      "Name: Values, dtype: int64\n",
      "C\n",
      "\n",
      "4    50\n",
      "5    60\n",
      "Name: Values, dtype: int64\n"
     ]
    }
   ],
   "source": [
    "grp = df.groupby('Category')\n",
    "for i, j in grp:\n",
    "    print(i)\n",
    "    print()\n",
    "    print(j['Values'])"
   ]
  },
  {
   "cell_type": "code",
   "execution_count": 36,
   "id": "e537ad10-68d4-49f0-9d17-5f1bba944cba",
   "metadata": {},
   "outputs": [
    {
     "data": {
      "text/plain": [
       "{'A': [0, 1], 'B': [2, 3], 'C': [4, 5]}"
      ]
     },
     "execution_count": 36,
     "metadata": {},
     "output_type": "execute_result"
    }
   ],
   "source": [
    "grp = df.groupby('Category').groups\n",
    "grp"
   ]
  },
  {
   "cell_type": "code",
   "execution_count": 37,
   "id": "1c80a53e-c852-49cf-8e6a-6e4b6055f73b",
   "metadata": {},
   "outputs": [
    {
     "name": "stdout",
     "output_type": "stream",
     "text": [
      "          SubCategory  Values\n",
      "Category                     \n",
      "A                   2       2\n",
      "B                   2       2\n",
      "C                   2       2\n",
      "\n",
      "          Values\n",
      "Category        \n",
      "A           15.0\n",
      "B           35.0\n",
      "C           55.0\n"
     ]
    }
   ],
   "source": [
    "grp = df.groupby('Category')\n",
    "print(grp.agg(np.size))\n",
    "print()\n",
    "print(grp.agg(np.mean))"
   ]
  },
  {
   "cell_type": "markdown",
   "id": "202e6984-5d9b-48b5-b479-0d9ac4e05e19",
   "metadata": {},
   "source": [
    "# Stastical Functions in pandas\n",
    "### sum() - Return the sum of values\n",
    "### count() - Return the count of non-empty values\n",
    "### max() - Return the maximum of values\n",
    "### min() - Return the minimum of values\n",
    "### mean() - Return the mean of the vlaues\n",
    "### median() - Return the median of the values\n",
    "### std() - Return the standard deviation of the values\n",
    "### Describe() - Return the summary stastics for each column"
   ]
  },
  {
   "cell_type": "code",
   "execution_count": 52,
   "id": "d4a76881-4d98-4730-b88a-68c0136a1896",
   "metadata": {},
   "outputs": [
    {
     "name": "stdout",
     "output_type": "stream",
     "text": [
      "A     2.0\n",
      "B    15.0\n",
      "dtype: float64\n",
      "\n",
      "     B\n",
      "A     \n",
      "1.0  9\n"
     ]
    }
   ],
   "source": [
    "import pandas as pd\n",
    "\n",
    "data = {'A': [1, 1, None], 'B': [4, 5, 6]}\n",
    "df = pd.DataFrame(data)\n",
    "\n",
    "print(df.sum())  # Column-wise sum\n",
    "print()\n",
    "\n",
    "print(df.groupby('A').sum())\n"
   ]
  },
  {
   "cell_type": "code",
   "execution_count": 44,
   "id": "809c9dca-e1b8-47aa-a03e-3f204bd513b4",
   "metadata": {},
   "outputs": [
    {
     "name": "stdout",
     "output_type": "stream",
     "text": [
      "A    2\n",
      "B    3\n",
      "dtype: int64\n"
     ]
    },
    {
     "data": {
      "text/html": [
       "<div>\n",
       "<style scoped>\n",
       "    .dataframe tbody tr th:only-of-type {\n",
       "        vertical-align: middle;\n",
       "    }\n",
       "\n",
       "    .dataframe tbody tr th {\n",
       "        vertical-align: top;\n",
       "    }\n",
       "\n",
       "    .dataframe thead th {\n",
       "        text-align: right;\n",
       "    }\n",
       "</style>\n",
       "<table border=\"1\" class=\"dataframe\">\n",
       "  <thead>\n",
       "    <tr style=\"text-align: right;\">\n",
       "      <th></th>\n",
       "      <th>B</th>\n",
       "    </tr>\n",
       "    <tr>\n",
       "      <th>A</th>\n",
       "      <th></th>\n",
       "    </tr>\n",
       "  </thead>\n",
       "  <tbody>\n",
       "    <tr>\n",
       "      <th>1.0</th>\n",
       "      <td>2</td>\n",
       "    </tr>\n",
       "  </tbody>\n",
       "</table>\n",
       "</div>"
      ],
      "text/plain": [
       "     B\n",
       "A     \n",
       "1.0  2"
      ]
     },
     "execution_count": 44,
     "metadata": {},
     "output_type": "execute_result"
    }
   ],
   "source": [
    "data = {'A': [1, 1, None], 'B': [4, 5, 6]}\n",
    "df = pd.DataFrame(data)\n",
    "\n",
    "print(df.count())\n",
    "\n",
    "df.groupby('A').count()\n"
   ]
  },
  {
   "cell_type": "code",
   "execution_count": 46,
   "id": "751d5ee2-b8cf-42a4-a8b1-8aa85108cf0d",
   "metadata": {},
   "outputs": [
    {
     "name": "stdout",
     "output_type": "stream",
     "text": [
      "A    1.0\n",
      "B    6.0\n",
      "dtype: float64\n"
     ]
    },
    {
     "data": {
      "text/html": [
       "<div>\n",
       "<style scoped>\n",
       "    .dataframe tbody tr th:only-of-type {\n",
       "        vertical-align: middle;\n",
       "    }\n",
       "\n",
       "    .dataframe tbody tr th {\n",
       "        vertical-align: top;\n",
       "    }\n",
       "\n",
       "    .dataframe thead th {\n",
       "        text-align: right;\n",
       "    }\n",
       "</style>\n",
       "<table border=\"1\" class=\"dataframe\">\n",
       "  <thead>\n",
       "    <tr style=\"text-align: right;\">\n",
       "      <th></th>\n",
       "      <th>B</th>\n",
       "    </tr>\n",
       "    <tr>\n",
       "      <th>A</th>\n",
       "      <th></th>\n",
       "    </tr>\n",
       "  </thead>\n",
       "  <tbody>\n",
       "    <tr>\n",
       "      <th>1.0</th>\n",
       "      <td>5</td>\n",
       "    </tr>\n",
       "  </tbody>\n",
       "</table>\n",
       "</div>"
      ],
      "text/plain": [
       "     B\n",
       "A     \n",
       "1.0  5"
      ]
     },
     "execution_count": 46,
     "metadata": {},
     "output_type": "execute_result"
    }
   ],
   "source": [
    "print(df.max())\n",
    "df.groupby('A').max()\n"
   ]
  },
  {
   "cell_type": "code",
   "execution_count": 47,
   "id": "d4d97548-90b3-4c0c-96ce-1e0c65290de1",
   "metadata": {},
   "outputs": [
    {
     "name": "stdout",
     "output_type": "stream",
     "text": [
      "A    1.0\n",
      "B    4.0\n",
      "dtype: float64\n"
     ]
    },
    {
     "data": {
      "text/html": [
       "<div>\n",
       "<style scoped>\n",
       "    .dataframe tbody tr th:only-of-type {\n",
       "        vertical-align: middle;\n",
       "    }\n",
       "\n",
       "    .dataframe tbody tr th {\n",
       "        vertical-align: top;\n",
       "    }\n",
       "\n",
       "    .dataframe thead th {\n",
       "        text-align: right;\n",
       "    }\n",
       "</style>\n",
       "<table border=\"1\" class=\"dataframe\">\n",
       "  <thead>\n",
       "    <tr style=\"text-align: right;\">\n",
       "      <th></th>\n",
       "      <th>B</th>\n",
       "    </tr>\n",
       "    <tr>\n",
       "      <th>A</th>\n",
       "      <th></th>\n",
       "    </tr>\n",
       "  </thead>\n",
       "  <tbody>\n",
       "    <tr>\n",
       "      <th>1.0</th>\n",
       "      <td>4</td>\n",
       "    </tr>\n",
       "  </tbody>\n",
       "</table>\n",
       "</div>"
      ],
      "text/plain": [
       "     B\n",
       "A     \n",
       "1.0  4"
      ]
     },
     "execution_count": 47,
     "metadata": {},
     "output_type": "execute_result"
    }
   ],
   "source": [
    "print(df.min())\n",
    "df.groupby('A').min()\n"
   ]
  },
  {
   "cell_type": "code",
   "execution_count": 48,
   "id": "ee3a783d-3ea9-43e6-84ac-df027e0eae99",
   "metadata": {},
   "outputs": [
    {
     "name": "stdout",
     "output_type": "stream",
     "text": [
      "A    1.0\n",
      "B    5.0\n",
      "dtype: float64\n"
     ]
    },
    {
     "data": {
      "text/html": [
       "<div>\n",
       "<style scoped>\n",
       "    .dataframe tbody tr th:only-of-type {\n",
       "        vertical-align: middle;\n",
       "    }\n",
       "\n",
       "    .dataframe tbody tr th {\n",
       "        vertical-align: top;\n",
       "    }\n",
       "\n",
       "    .dataframe thead th {\n",
       "        text-align: right;\n",
       "    }\n",
       "</style>\n",
       "<table border=\"1\" class=\"dataframe\">\n",
       "  <thead>\n",
       "    <tr style=\"text-align: right;\">\n",
       "      <th></th>\n",
       "      <th>B</th>\n",
       "    </tr>\n",
       "    <tr>\n",
       "      <th>A</th>\n",
       "      <th></th>\n",
       "    </tr>\n",
       "  </thead>\n",
       "  <tbody>\n",
       "    <tr>\n",
       "      <th>1.0</th>\n",
       "      <td>4.5</td>\n",
       "    </tr>\n",
       "  </tbody>\n",
       "</table>\n",
       "</div>"
      ],
      "text/plain": [
       "       B\n",
       "A       \n",
       "1.0  4.5"
      ]
     },
     "execution_count": 48,
     "metadata": {},
     "output_type": "execute_result"
    }
   ],
   "source": [
    "print(df.mean())\n",
    "df.groupby('A').mean()\n"
   ]
  },
  {
   "cell_type": "code",
   "execution_count": 49,
   "id": "fce07e2f-2e20-44b1-ae01-49f6198e62c0",
   "metadata": {},
   "outputs": [
    {
     "name": "stdout",
     "output_type": "stream",
     "text": [
      "A    1.0\n",
      "B    5.0\n",
      "dtype: float64\n"
     ]
    },
    {
     "data": {
      "text/html": [
       "<div>\n",
       "<style scoped>\n",
       "    .dataframe tbody tr th:only-of-type {\n",
       "        vertical-align: middle;\n",
       "    }\n",
       "\n",
       "    .dataframe tbody tr th {\n",
       "        vertical-align: top;\n",
       "    }\n",
       "\n",
       "    .dataframe thead th {\n",
       "        text-align: right;\n",
       "    }\n",
       "</style>\n",
       "<table border=\"1\" class=\"dataframe\">\n",
       "  <thead>\n",
       "    <tr style=\"text-align: right;\">\n",
       "      <th></th>\n",
       "      <th>B</th>\n",
       "    </tr>\n",
       "    <tr>\n",
       "      <th>A</th>\n",
       "      <th></th>\n",
       "    </tr>\n",
       "  </thead>\n",
       "  <tbody>\n",
       "    <tr>\n",
       "      <th>1.0</th>\n",
       "      <td>4.5</td>\n",
       "    </tr>\n",
       "  </tbody>\n",
       "</table>\n",
       "</div>"
      ],
      "text/plain": [
       "       B\n",
       "A       \n",
       "1.0  4.5"
      ]
     },
     "execution_count": 49,
     "metadata": {},
     "output_type": "execute_result"
    }
   ],
   "source": [
    "print(df.median())\n",
    "df.groupby('A').median()\n"
   ]
  },
  {
   "cell_type": "code",
   "execution_count": 50,
   "id": "f78c750b-683e-4eb0-8084-c60891014b87",
   "metadata": {},
   "outputs": [
    {
     "name": "stdout",
     "output_type": "stream",
     "text": [
      "A    0.0\n",
      "B    1.0\n",
      "dtype: float64\n"
     ]
    },
    {
     "data": {
      "text/html": [
       "<div>\n",
       "<style scoped>\n",
       "    .dataframe tbody tr th:only-of-type {\n",
       "        vertical-align: middle;\n",
       "    }\n",
       "\n",
       "    .dataframe tbody tr th {\n",
       "        vertical-align: top;\n",
       "    }\n",
       "\n",
       "    .dataframe thead th {\n",
       "        text-align: right;\n",
       "    }\n",
       "</style>\n",
       "<table border=\"1\" class=\"dataframe\">\n",
       "  <thead>\n",
       "    <tr style=\"text-align: right;\">\n",
       "      <th></th>\n",
       "      <th>B</th>\n",
       "    </tr>\n",
       "    <tr>\n",
       "      <th>A</th>\n",
       "      <th></th>\n",
       "    </tr>\n",
       "  </thead>\n",
       "  <tbody>\n",
       "    <tr>\n",
       "      <th>1.0</th>\n",
       "      <td>0.707107</td>\n",
       "    </tr>\n",
       "  </tbody>\n",
       "</table>\n",
       "</div>"
      ],
      "text/plain": [
       "            B\n",
       "A            \n",
       "1.0  0.707107"
      ]
     },
     "execution_count": 50,
     "metadata": {},
     "output_type": "execute_result"
    }
   ],
   "source": [
    "print(df.std())\n",
    "df.groupby('A').std()\n"
   ]
  },
  {
   "cell_type": "code",
   "execution_count": 51,
   "id": "ac00cf1a-2d64-4917-8bb9-3b85afdacd75",
   "metadata": {},
   "outputs": [
    {
     "name": "stdout",
     "output_type": "stream",
     "text": [
      "         A    B\n",
      "count  2.0  3.0\n",
      "mean   1.0  5.0\n",
      "std    0.0  1.0\n",
      "min    1.0  4.0\n",
      "25%    1.0  4.5\n",
      "50%    1.0  5.0\n",
      "75%    1.0  5.5\n",
      "max    1.0  6.0\n"
     ]
    },
    {
     "data": {
      "text/html": [
       "<div>\n",
       "<style scoped>\n",
       "    .dataframe tbody tr th:only-of-type {\n",
       "        vertical-align: middle;\n",
       "    }\n",
       "\n",
       "    .dataframe tbody tr th {\n",
       "        vertical-align: top;\n",
       "    }\n",
       "\n",
       "    .dataframe thead tr th {\n",
       "        text-align: left;\n",
       "    }\n",
       "\n",
       "    .dataframe thead tr:last-of-type th {\n",
       "        text-align: right;\n",
       "    }\n",
       "</style>\n",
       "<table border=\"1\" class=\"dataframe\">\n",
       "  <thead>\n",
       "    <tr>\n",
       "      <th></th>\n",
       "      <th colspan=\"8\" halign=\"left\">B</th>\n",
       "    </tr>\n",
       "    <tr>\n",
       "      <th></th>\n",
       "      <th>count</th>\n",
       "      <th>mean</th>\n",
       "      <th>std</th>\n",
       "      <th>min</th>\n",
       "      <th>25%</th>\n",
       "      <th>50%</th>\n",
       "      <th>75%</th>\n",
       "      <th>max</th>\n",
       "    </tr>\n",
       "    <tr>\n",
       "      <th>A</th>\n",
       "      <th></th>\n",
       "      <th></th>\n",
       "      <th></th>\n",
       "      <th></th>\n",
       "      <th></th>\n",
       "      <th></th>\n",
       "      <th></th>\n",
       "      <th></th>\n",
       "    </tr>\n",
       "  </thead>\n",
       "  <tbody>\n",
       "    <tr>\n",
       "      <th>1.0</th>\n",
       "      <td>2.0</td>\n",
       "      <td>4.5</td>\n",
       "      <td>0.707107</td>\n",
       "      <td>4.0</td>\n",
       "      <td>4.25</td>\n",
       "      <td>4.5</td>\n",
       "      <td>4.75</td>\n",
       "      <td>5.0</td>\n",
       "    </tr>\n",
       "  </tbody>\n",
       "</table>\n",
       "</div>"
      ],
      "text/plain": [
       "        B                                          \n",
       "    count mean       std  min   25%  50%   75%  max\n",
       "A                                                  \n",
       "1.0   2.0  4.5  0.707107  4.0  4.25  4.5  4.75  5.0"
      ]
     },
     "execution_count": 51,
     "metadata": {},
     "output_type": "execute_result"
    }
   ],
   "source": [
    "print(df.describe())\n",
    "df.groupby('A').describe()\n"
   ]
  },
  {
   "cell_type": "code",
   "execution_count": 61,
   "id": "3bee5d43-bc4b-4375-99b7-bad92099aa00",
   "metadata": {},
   "outputs": [
    {
     "data": {
      "text/plain": [
       "<AxesSubplot:ylabel='B'>"
      ]
     },
     "execution_count": 61,
     "metadata": {},
     "output_type": "execute_result"
    },
    {
     "data": {
      "image/png": "[encoded data removed]",
      "text/plain": [
       "<Figure size 432x288 with 1 Axes>"
      ]
     },
     "metadata": {
      "needs_background": "light"
     },
     "output_type": "display_data"
    },
    {
     "data": {
      "image/png": "[encoded data removed]",
      "text/plain": [
       "<Figure size 432x288 with 1 Axes>"
      ]
     },
     "metadata": {
      "needs_background": "light"
     },
     "output_type": "display_data"
    },
    {
     "data": {
      "image/png": "[encoded data removed]",
      "text/plain": [
       "<Figure size 432x288 with 1 Axes>"
      ]
     },
     "metadata": {},
     "output_type": "display_data"
    }
   ],
   "source": [
    "import matplotlib.pyplot as plt\n",
    "df.plot()\n",
    "df.plot(kind='hist')\n",
    "df.plot.pie(y='B')"
   ]
  },
  {
   "cell_type": "code",
   "execution_count": null,
   "id": "2e801739-d3d7-40cd-a7b4-7762d6196ab8",
   "metadata": {},
   "outputs": [],
   "source": []
  },
  {
   "cell_type": "code",
   "execution_count": null,
   "id": "57981062-e35d-4d63-982d-649bdf38fc5a",
   "metadata": {},
   "outputs": [],
   "source": []
  },
  {
   "cell_type": "code",
   "execution_count": null,
   "id": "94f03b27-cda6-4f3b-8afe-ea936dd68ddb",
   "metadata": {},
   "outputs": [],
   "source": []
  },
  {
   "cell_type": "code",
   "execution_count": null,
   "id": "13e9ee8b-d282-49dc-a4aa-a87c225fb296",
   "metadata": {},
   "outputs": [],
   "source": []
  },
  {
   "cell_type": "code",
   "execution_count": null,
   "id": "52a20351-9fb4-44f3-bfb7-44bde9a02e11",
   "metadata": {},
   "outputs": [],
   "source": []
  },
  {
   "cell_type": "code",
   "execution_count": null,
   "id": "7324bc4c-caf6-416e-a69d-42f5717462dd",
   "metadata": {},
   "outputs": [],
   "source": []
  },
  {
   "cell_type": "code",
   "execution_count": null,
   "id": "ca2cae2e-0279-4cdb-9dac-d67fa31b42a6",
   "metadata": {},
   "outputs": [],
   "source": []
  },
  {
   "cell_type": "code",
   "execution_count": null,
   "id": "2cc624b1-6b96-4821-88b8-4757fc80bccb",
   "metadata": {},
   "outputs": [],
   "source": []
  },
  {
   "cell_type": "code",
   "execution_count": null,
   "id": "4f735ccc-582c-4011-b3e7-cad16665686e",
   "metadata": {},
   "outputs": [],
   "source": []
  },
  {
   "cell_type": "code",
   "execution_count": null,
   "id": "a63c5a48-cacf-4d37-8e23-51b66bc430fb",
   "metadata": {},
   "outputs": [],
   "source": []
  },
  {
   "cell_type": "code",
   "execution_count": null,
   "id": "6fc103cc-d198-4c3c-8d30-7b093a61f767",
   "metadata": {},
   "outputs": [],
   "source": []
  },
  {
   "cell_type": "code",
   "execution_count": null,
   "id": "6bbb8949-26b6-44b8-82fe-8f198ecc3f9a",
   "metadata": {},
   "outputs": [],
   "source": []
  },
  {
   "cell_type": "code",
   "execution_count": null,
   "id": "d26276e5-cf68-4f7c-9dff-cb0fc19f252f",
   "metadata": {},
   "outputs": [],
   "source": []
  },
  {
   "cell_type": "code",
   "execution_count": null,
   "id": "bfc6973f-84e0-47e9-877d-a0f0ddd87364",
   "metadata": {},
   "outputs": [],
   "source": []
  },
  {
   "cell_type": "code",
   "execution_count": null,
   "id": "9d6b75f8-27a9-41da-835d-175d7cd0051c",
   "metadata": {},
   "outputs": [],
   "source": []
  },
  {
   "cell_type": "code",
   "execution_count": null,
   "id": "a698335b-7051-4cfc-bd21-28edf939e545",
   "metadata": {},
   "outputs": [],
   "source": []
  },
  {
   "cell_type": "code",
   "execution_count": null,
   "id": "c6d1c50a-4ee6-4a3d-b0d0-8ab516213e81",
   "metadata": {},
   "outputs": [],
   "source": []
  },
  {
   "cell_type": "code",
   "execution_count": null,
   "id": "198bd2a3-8716-42b5-aecb-bf80e9a58be8",
   "metadata": {},
   "outputs": [],
   "source": []
  },
  {
   "cell_type": "code",
   "execution_count": null,
   "id": "6f245ccb-fa91-4ab2-b4b1-79e71b7246e1",
   "metadata": {},
   "outputs": [],
   "source": []
  },
  {
   "cell_type": "code",
   "execution_count": null,
   "id": "44296911-fea6-4137-9b5c-df4bce8da8cd",
   "metadata": {},
   "outputs": [],
   "source": []
  }
 ],
 "metadata": {
  "kernelspec": {
   "display_name": "Python 3 (ipykernel)",
   "language": "python",
   "name": "python3"
  },
  "language_info": {
   "codemirror_mode": {
    "name": "ipython",
    "version": 3
   },
   "file_extension": ".py",
   "mimetype": "text/x-python",
   "name": "python",
   "nbconvert_exporter": "python",
   "pygments_lexer": "ipython3",
   "version": "3.10.4"
  }
 },
 "nbformat": 4,
 "nbformat_minor": 5
}
